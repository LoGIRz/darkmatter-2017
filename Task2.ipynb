{
 "cells": [
  {
   "cell_type": "code",
   "execution_count": 24,
   "metadata": {
    "collapsed": true
   },
   "outputs": [],
   "source": [
    "import numpy as np\n",
    "import pandas as pd"
   ]
  },
  {
   "cell_type": "code",
   "execution_count": 25,
   "metadata": {
    "collapsed": false
   },
   "outputs": [
    {
     "data": {
      "text/html": [
       "<div>\n",
       "<table border=\"1\" class=\"dataframe\">\n",
       "  <thead>\n",
       "    <tr style=\"text-align: right;\">\n",
       "      <th></th>\n",
       "      <th>index</th>\n",
       "      <th>TX</th>\n",
       "      <th>TY</th>\n",
       "      <th>X</th>\n",
       "      <th>Y</th>\n",
       "      <th>Z</th>\n",
       "      <th>chi2</th>\n",
       "      <th>ele_P</th>\n",
       "      <th>data_ind</th>\n",
       "    </tr>\n",
       "  </thead>\n",
       "  <tbody>\n",
       "    <tr>\n",
       "      <th>0</th>\n",
       "      <td>0</td>\n",
       "      <td>-0.110714</td>\n",
       "      <td>-0.040569</td>\n",
       "      <td>59331.917969</td>\n",
       "      <td>49500.554688</td>\n",
       "      <td>6465.0</td>\n",
       "      <td>2.033096</td>\n",
       "      <td>NaN</td>\n",
       "      <td>221</td>\n",
       "    </tr>\n",
       "    <tr>\n",
       "      <th>1</th>\n",
       "      <td>1</td>\n",
       "      <td>-0.165904</td>\n",
       "      <td>0.159821</td>\n",
       "      <td>34738.796875</td>\n",
       "      <td>68337.164062</td>\n",
       "      <td>41376.0</td>\n",
       "      <td>0.369803</td>\n",
       "      <td>NaN</td>\n",
       "      <td>21</td>\n",
       "    </tr>\n",
       "    <tr>\n",
       "      <th>2</th>\n",
       "      <td>2</td>\n",
       "      <td>0.694244</td>\n",
       "      <td>-0.107642</td>\n",
       "      <td>68450.296875</td>\n",
       "      <td>45701.441406</td>\n",
       "      <td>59478.0</td>\n",
       "      <td>1.266626</td>\n",
       "      <td>NaN</td>\n",
       "      <td>347</td>\n",
       "    </tr>\n",
       "    <tr>\n",
       "      <th>3</th>\n",
       "      <td>3</td>\n",
       "      <td>0.370796</td>\n",
       "      <td>-0.016071</td>\n",
       "      <td>50257.199219</td>\n",
       "      <td>76170.953125</td>\n",
       "      <td>71115.0</td>\n",
       "      <td>2.767298</td>\n",
       "      <td>NaN</td>\n",
       "      <td>133</td>\n",
       "    </tr>\n",
       "    <tr>\n",
       "      <th>4</th>\n",
       "      <td>4</td>\n",
       "      <td>0.278292</td>\n",
       "      <td>0.332729</td>\n",
       "      <td>59803.960938</td>\n",
       "      <td>5938.398438</td>\n",
       "      <td>5172.0</td>\n",
       "      <td>2.794279</td>\n",
       "      <td>NaN</td>\n",
       "      <td>23</td>\n",
       "    </tr>\n",
       "  </tbody>\n",
       "</table>\n",
       "</div>"
      ],
      "text/plain": [
       "   index        TX        TY             X             Y        Z      chi2  \\\n",
       "0      0 -0.110714 -0.040569  59331.917969  49500.554688   6465.0  2.033096   \n",
       "1      1 -0.165904  0.159821  34738.796875  68337.164062  41376.0  0.369803   \n",
       "2      2  0.694244 -0.107642  68450.296875  45701.441406  59478.0  1.266626   \n",
       "3      3  0.370796 -0.016071  50257.199219  76170.953125  71115.0  2.767298   \n",
       "4      4  0.278292  0.332729  59803.960938   5938.398438   5172.0  2.794279   \n",
       "\n",
       "   ele_P  data_ind  \n",
       "0    NaN       221  \n",
       "1    NaN        21  \n",
       "2    NaN       347  \n",
       "3    NaN       133  \n",
       "4    NaN        23  "
      ]
     },
     "execution_count": 25,
     "metadata": {},
     "output_type": "execute_result"
    }
   ],
   "source": [
    "new_test = pd.read_csv('new_test.csv')\n",
    "new_test.head()"
   ]
  },
  {
   "cell_type": "code",
   "execution_count": 26,
   "metadata": {
    "collapsed": true
   },
   "outputs": [],
   "source": [
    "X_test = new_test[new_test.columns[1:7]]"
   ]
  },
  {
   "cell_type": "code",
   "execution_count": 27,
   "metadata": {
    "collapsed": false,
    "scrolled": true
   },
   "outputs": [
    {
     "data": {
      "text/html": [
       "<div>\n",
       "<table border=\"1\" class=\"dataframe\">\n",
       "  <thead>\n",
       "    <tr style=\"text-align: right;\">\n",
       "      <th></th>\n",
       "      <th>TX</th>\n",
       "      <th>TY</th>\n",
       "      <th>X</th>\n",
       "      <th>Y</th>\n",
       "      <th>Z</th>\n",
       "      <th>chi2</th>\n",
       "    </tr>\n",
       "  </thead>\n",
       "  <tbody>\n",
       "    <tr>\n",
       "      <th>0</th>\n",
       "      <td>-0.110714</td>\n",
       "      <td>-0.040569</td>\n",
       "      <td>59331.917969</td>\n",
       "      <td>49500.554688</td>\n",
       "      <td>6465.0</td>\n",
       "      <td>2.033096</td>\n",
       "    </tr>\n",
       "    <tr>\n",
       "      <th>1</th>\n",
       "      <td>-0.165904</td>\n",
       "      <td>0.159821</td>\n",
       "      <td>34738.796875</td>\n",
       "      <td>68337.164062</td>\n",
       "      <td>41376.0</td>\n",
       "      <td>0.369803</td>\n",
       "    </tr>\n",
       "    <tr>\n",
       "      <th>2</th>\n",
       "      <td>0.694244</td>\n",
       "      <td>-0.107642</td>\n",
       "      <td>68450.296875</td>\n",
       "      <td>45701.441406</td>\n",
       "      <td>59478.0</td>\n",
       "      <td>1.266626</td>\n",
       "    </tr>\n",
       "    <tr>\n",
       "      <th>3</th>\n",
       "      <td>0.370796</td>\n",
       "      <td>-0.016071</td>\n",
       "      <td>50257.199219</td>\n",
       "      <td>76170.953125</td>\n",
       "      <td>71115.0</td>\n",
       "      <td>2.767298</td>\n",
       "    </tr>\n",
       "    <tr>\n",
       "      <th>4</th>\n",
       "      <td>0.278292</td>\n",
       "      <td>0.332729</td>\n",
       "      <td>59803.960938</td>\n",
       "      <td>5938.398438</td>\n",
       "      <td>5172.0</td>\n",
       "      <td>2.794279</td>\n",
       "    </tr>\n",
       "  </tbody>\n",
       "</table>\n",
       "</div>"
      ],
      "text/plain": [
       "         TX        TY             X             Y        Z      chi2\n",
       "0 -0.110714 -0.040569  59331.917969  49500.554688   6465.0  2.033096\n",
       "1 -0.165904  0.159821  34738.796875  68337.164062  41376.0  0.369803\n",
       "2  0.694244 -0.107642  68450.296875  45701.441406  59478.0  1.266626\n",
       "3  0.370796 -0.016071  50257.199219  76170.953125  71115.0  2.767298\n",
       "4  0.278292  0.332729  59803.960938   5938.398438   5172.0  2.794279"
      ]
     },
     "execution_count": 27,
     "metadata": {},
     "output_type": "execute_result"
    }
   ],
   "source": [
    "X_test.head()"
   ]
  },
  {
   "cell_type": "code",
   "execution_count": 34,
   "metadata": {
    "collapsed": true
   },
   "outputs": [],
   "source": [
    "X_test = X_test.fillna(0.0)"
   ]
  },
  {
   "cell_type": "code",
   "execution_count": 51,
   "metadata": {
    "collapsed": false
   },
   "outputs": [
    {
     "data": {
      "text/plain": [
       "3.0"
      ]
     },
     "execution_count": 51,
     "metadata": {},
     "output_type": "execute_result"
    }
   ],
   "source": [
    "y_pred_test = X_test['chi2']\n",
    "y_pred_test.max()"
   ]
  },
  {
   "cell_type": "code",
   "execution_count": 58,
   "metadata": {
    "collapsed": true
   },
   "outputs": [],
   "source": [
    "y_pred_test = X_test['chi2'] * 1.0/3"
   ]
  },
  {
   "cell_type": "code",
   "execution_count": 59,
   "metadata": {
    "collapsed": false
   },
   "outputs": [
    {
     "data": {
      "text/html": [
       "<div>\n",
       "<table border=\"1\" class=\"dataframe\">\n",
       "  <thead>\n",
       "    <tr style=\"text-align: right;\">\n",
       "      <th></th>\n",
       "      <th>index</th>\n",
       "      <th>signal</th>\n",
       "    </tr>\n",
       "  </thead>\n",
       "  <tbody>\n",
       "    <tr>\n",
       "      <th>0</th>\n",
       "      <td>0</td>\n",
       "      <td>0.969787</td>\n",
       "    </tr>\n",
       "    <tr>\n",
       "      <th>1</th>\n",
       "      <td>1</td>\n",
       "      <td>0.176396</td>\n",
       "    </tr>\n",
       "    <tr>\n",
       "      <th>2</th>\n",
       "      <td>2</td>\n",
       "      <td>0.604181</td>\n",
       "    </tr>\n",
       "    <tr>\n",
       "      <th>3</th>\n",
       "      <td>3</td>\n",
       "      <td>1.320001</td>\n",
       "    </tr>\n",
       "    <tr>\n",
       "      <th>4</th>\n",
       "      <td>4</td>\n",
       "      <td>1.332871</td>\n",
       "    </tr>\n",
       "  </tbody>\n",
       "</table>\n",
       "</div>"
      ],
      "text/plain": [
       "   index    signal\n",
       "0      0  0.969787\n",
       "1      1  0.176396\n",
       "2      2  0.604181\n",
       "3      3  1.320001\n",
       "4      4  1.332871"
      ]
     },
     "execution_count": 59,
     "metadata": {},
     "output_type": "execute_result"
    }
   ],
   "source": [
    "new_res_sample = pd.read_csv('new_res_sample.csv')\n",
    "new_res_sample.head()"
   ]
  },
  {
   "cell_type": "code",
   "execution_count": 60,
   "metadata": {
    "collapsed": true
   },
   "outputs": [],
   "source": [
    "new_res_sample.signal = y_pred_test\n",
    "new_res_sample.to_csv(\"new_res_sample.csv\", index=False)"
   ]
  },
  {
   "cell_type": "code",
   "execution_count": 61,
   "metadata": {
    "collapsed": false
   },
   "outputs": [
    {
     "data": {
      "text/html": [
       "<div>\n",
       "<table border=\"1\" class=\"dataframe\">\n",
       "  <thead>\n",
       "    <tr style=\"text-align: right;\">\n",
       "      <th></th>\n",
       "      <th>index</th>\n",
       "      <th>signal</th>\n",
       "    </tr>\n",
       "  </thead>\n",
       "  <tbody>\n",
       "    <tr>\n",
       "      <th>0</th>\n",
       "      <td>0</td>\n",
       "      <td>0.677699</td>\n",
       "    </tr>\n",
       "    <tr>\n",
       "      <th>1</th>\n",
       "      <td>1</td>\n",
       "      <td>0.123268</td>\n",
       "    </tr>\n",
       "    <tr>\n",
       "      <th>2</th>\n",
       "      <td>2</td>\n",
       "      <td>0.422209</td>\n",
       "    </tr>\n",
       "    <tr>\n",
       "      <th>3</th>\n",
       "      <td>3</td>\n",
       "      <td>0.922433</td>\n",
       "    </tr>\n",
       "    <tr>\n",
       "      <th>4</th>\n",
       "      <td>4</td>\n",
       "      <td>0.931426</td>\n",
       "    </tr>\n",
       "    <tr>\n",
       "      <th>5</th>\n",
       "      <td>5</td>\n",
       "      <td>0.774004</td>\n",
       "    </tr>\n",
       "    <tr>\n",
       "      <th>6</th>\n",
       "      <td>6</td>\n",
       "      <td>0.916341</td>\n",
       "    </tr>\n",
       "    <tr>\n",
       "      <th>7</th>\n",
       "      <td>7</td>\n",
       "      <td>0.539466</td>\n",
       "    </tr>\n",
       "    <tr>\n",
       "      <th>8</th>\n",
       "      <td>8</td>\n",
       "      <td>0.945342</td>\n",
       "    </tr>\n",
       "    <tr>\n",
       "      <th>9</th>\n",
       "      <td>9</td>\n",
       "      <td>0.757730</td>\n",
       "    </tr>\n",
       "  </tbody>\n",
       "</table>\n",
       "</div>"
      ],
      "text/plain": [
       "   index    signal\n",
       "0      0  0.677699\n",
       "1      1  0.123268\n",
       "2      2  0.422209\n",
       "3      3  0.922433\n",
       "4      4  0.931426\n",
       "5      5  0.774004\n",
       "6      6  0.916341\n",
       "7      7  0.539466\n",
       "8      8  0.945342\n",
       "9      9  0.757730"
      ]
     },
     "execution_count": 61,
     "metadata": {},
     "output_type": "execute_result"
    }
   ],
   "source": [
    "new_res_sample.head(10)"
   ]
  }
 ],
 "metadata": {
  "kernelspec": {
   "display_name": "Python 3",
   "language": "python",
   "name": "python3"
  },
  "language_info": {
   "codemirror_mode": {
    "name": "ipython",
    "version": 3
   },
   "file_extension": ".py",
   "mimetype": "text/x-python",
   "name": "python",
   "nbconvert_exporter": "python",
   "pygments_lexer": "ipython3",
   "version": "3.5.1"
  },
  "widgets": {
   "state": {},
   "version": "1.1.1"
  }
 },
 "nbformat": 4,
 "nbformat_minor": 2
}
