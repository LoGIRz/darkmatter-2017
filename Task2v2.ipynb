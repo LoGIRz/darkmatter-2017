{
 "cells": [
  {
   "cell_type": "code",
   "execution_count": 2,
   "metadata": {
    "collapsed": false
   },
   "outputs": [
    {
     "name": "stderr",
     "output_type": "stream",
     "text": [
      "/Users/Yusuf/anaconda/envs/py27/lib/python2.7/site-packages/sklearn/cross_validation.py:44: DeprecationWarning: This module was deprecated in version 0.18 in favor of the model_selection module into which all the refactored classes and functions are moved. Also note that the interface of the new CV iterators are different from that of this module. This module will be removed in 0.20.\n",
      "  \"This module will be removed in 0.20.\", DeprecationWarning)\n"
     ]
    }
   ],
   "source": [
    "import numpy as np\n",
    "import pandas as pd\n",
    "from sklearn.utils import shuffle\n",
    "from sklearn.metrics import roc_auc_score\n",
    "from sklearn.linear_model import LogisticRegression\n",
    "import xgboost as xgb\n",
    "%matplotlib inline\n",
    "# %matplotlib notebook"
   ]
  },
  {
   "cell_type": "code",
   "execution_count": 3,
   "metadata": {
    "collapsed": false
   },
   "outputs": [
    {
     "data": {
      "text/html": [
       "<div>\n",
       "<table border=\"1\" class=\"dataframe\">\n",
       "  <thead>\n",
       "    <tr style=\"text-align: right;\">\n",
       "      <th></th>\n",
       "      <th>index</th>\n",
       "      <th>TX</th>\n",
       "      <th>TY</th>\n",
       "      <th>X</th>\n",
       "      <th>Y</th>\n",
       "      <th>Z</th>\n",
       "      <th>chi2</th>\n",
       "      <th>ele_P</th>\n",
       "      <th>data_ind</th>\n",
       "      <th>signal</th>\n",
       "    </tr>\n",
       "  </thead>\n",
       "  <tbody>\n",
       "    <tr>\n",
       "      <th>0</th>\n",
       "      <td>0</td>\n",
       "      <td>0.013209</td>\n",
       "      <td>0.067202</td>\n",
       "      <td>66081.937500</td>\n",
       "      <td>52968.695312</td>\n",
       "      <td>11637.0</td>\n",
       "      <td>0.880506</td>\n",
       "      <td>NaN</td>\n",
       "      <td>0</td>\n",
       "      <td>1</td>\n",
       "    </tr>\n",
       "    <tr>\n",
       "      <th>1</th>\n",
       "      <td>1</td>\n",
       "      <td>0.014165</td>\n",
       "      <td>0.071018</td>\n",
       "      <td>66100.265625</td>\n",
       "      <td>53058.140625</td>\n",
       "      <td>12930.0</td>\n",
       "      <td>0.522405</td>\n",
       "      <td>NaN</td>\n",
       "      <td>0</td>\n",
       "      <td>1</td>\n",
       "    </tr>\n",
       "    <tr>\n",
       "      <th>2</th>\n",
       "      <td>2</td>\n",
       "      <td>0.017983</td>\n",
       "      <td>0.069956</td>\n",
       "      <td>66118.492188</td>\n",
       "      <td>53147.492188</td>\n",
       "      <td>14223.0</td>\n",
       "      <td>0.971824</td>\n",
       "      <td>NaN</td>\n",
       "      <td>0</td>\n",
       "      <td>1</td>\n",
       "    </tr>\n",
       "    <tr>\n",
       "      <th>3</th>\n",
       "      <td>3</td>\n",
       "      <td>0.013956</td>\n",
       "      <td>-0.058355</td>\n",
       "      <td>66121.281250</td>\n",
       "      <td>53082.601562</td>\n",
       "      <td>14223.0</td>\n",
       "      <td>0.771712</td>\n",
       "      <td>NaN</td>\n",
       "      <td>0</td>\n",
       "      <td>1</td>\n",
       "    </tr>\n",
       "    <tr>\n",
       "      <th>4</th>\n",
       "      <td>4</td>\n",
       "      <td>0.002209</td>\n",
       "      <td>0.045891</td>\n",
       "      <td>66116.429688</td>\n",
       "      <td>53143.609375</td>\n",
       "      <td>14223.0</td>\n",
       "      <td>0.345887</td>\n",
       "      <td>NaN</td>\n",
       "      <td>0</td>\n",
       "      <td>1</td>\n",
       "    </tr>\n",
       "  </tbody>\n",
       "</table>\n",
       "</div>"
      ],
      "text/plain": [
       "   index        TX        TY             X             Y        Z      chi2  \\\n",
       "0      0  0.013209  0.067202  66081.937500  52968.695312  11637.0  0.880506   \n",
       "1      1  0.014165  0.071018  66100.265625  53058.140625  12930.0  0.522405   \n",
       "2      2  0.017983  0.069956  66118.492188  53147.492188  14223.0  0.971824   \n",
       "3      3  0.013956 -0.058355  66121.281250  53082.601562  14223.0  0.771712   \n",
       "4      4  0.002209  0.045891  66116.429688  53143.609375  14223.0  0.345887   \n",
       "\n",
       "   ele_P  data_ind  signal  \n",
       "0    NaN         0       1  \n",
       "1    NaN         0       1  \n",
       "2    NaN         0       1  \n",
       "3    NaN         0       1  \n",
       "4    NaN         0       1  "
      ]
     },
     "execution_count": 3,
     "metadata": {},
     "output_type": "execute_result"
    }
   ],
   "source": [
    "df = pd.read_csv('train.csv')\n",
    "df.head()"
   ]
  },
  {
   "cell_type": "code",
   "execution_count": 5,
   "metadata": {
    "collapsed": true
   },
   "outputs": [],
   "source": [
    "df_shuffled = shuffle(df, random_state=12)\n",
    "df_shuffled = df_shuffled.fillna(0)\n",
    "X = df_shuffled[df_shuffled.columns[1:8]]\n",
    "y = df_shuffled.iloc[:,9]"
   ]
  },
  {
   "cell_type": "code",
   "execution_count": 6,
   "metadata": {
    "collapsed": false
   },
   "outputs": [],
   "source": [
    "lr = LogisticRegression()\n",
    "fit = lr.fit(X,y)"
   ]
  },
  {
   "cell_type": "code",
   "execution_count": 7,
   "metadata": {
    "collapsed": false
   },
   "outputs": [
    {
     "data": {
      "text/plain": [
       "0.61316538869856785"
      ]
     },
     "execution_count": 7,
     "metadata": {},
     "output_type": "execute_result"
    }
   ],
   "source": [
    "y_pred = fit.predict_proba(X)[:,1]\n",
    "roc_auc_score(y, y_pred)"
   ]
  },
  {
   "cell_type": "code",
   "execution_count": 8,
   "metadata": {
    "collapsed": false
   },
   "outputs": [
    {
     "data": {
      "text/html": [
       "<div>\n",
       "<table border=\"1\" class=\"dataframe\">\n",
       "  <thead>\n",
       "    <tr style=\"text-align: right;\">\n",
       "      <th></th>\n",
       "      <th>index</th>\n",
       "      <th>TX</th>\n",
       "      <th>TY</th>\n",
       "      <th>X</th>\n",
       "      <th>Y</th>\n",
       "      <th>Z</th>\n",
       "      <th>chi2</th>\n",
       "      <th>ele_P</th>\n",
       "      <th>data_ind</th>\n",
       "    </tr>\n",
       "  </thead>\n",
       "  <tbody>\n",
       "    <tr>\n",
       "      <th>0</th>\n",
       "      <td>0</td>\n",
       "      <td>-0.110714</td>\n",
       "      <td>-0.040569</td>\n",
       "      <td>59331.917969</td>\n",
       "      <td>49500.554688</td>\n",
       "      <td>6465.0</td>\n",
       "      <td>2.033096</td>\n",
       "      <td>NaN</td>\n",
       "      <td>221</td>\n",
       "    </tr>\n",
       "    <tr>\n",
       "      <th>1</th>\n",
       "      <td>1</td>\n",
       "      <td>-0.165904</td>\n",
       "      <td>0.159821</td>\n",
       "      <td>34738.796875</td>\n",
       "      <td>68337.164062</td>\n",
       "      <td>41376.0</td>\n",
       "      <td>0.369803</td>\n",
       "      <td>NaN</td>\n",
       "      <td>21</td>\n",
       "    </tr>\n",
       "    <tr>\n",
       "      <th>2</th>\n",
       "      <td>2</td>\n",
       "      <td>0.694244</td>\n",
       "      <td>-0.107642</td>\n",
       "      <td>68450.296875</td>\n",
       "      <td>45701.441406</td>\n",
       "      <td>59478.0</td>\n",
       "      <td>1.266626</td>\n",
       "      <td>NaN</td>\n",
       "      <td>347</td>\n",
       "    </tr>\n",
       "    <tr>\n",
       "      <th>3</th>\n",
       "      <td>3</td>\n",
       "      <td>0.370796</td>\n",
       "      <td>-0.016071</td>\n",
       "      <td>50257.199219</td>\n",
       "      <td>76170.953125</td>\n",
       "      <td>71115.0</td>\n",
       "      <td>2.767298</td>\n",
       "      <td>NaN</td>\n",
       "      <td>133</td>\n",
       "    </tr>\n",
       "    <tr>\n",
       "      <th>4</th>\n",
       "      <td>4</td>\n",
       "      <td>0.278292</td>\n",
       "      <td>0.332729</td>\n",
       "      <td>59803.960938</td>\n",
       "      <td>5938.398438</td>\n",
       "      <td>5172.0</td>\n",
       "      <td>2.794279</td>\n",
       "      <td>NaN</td>\n",
       "      <td>23</td>\n",
       "    </tr>\n",
       "  </tbody>\n",
       "</table>\n",
       "</div>"
      ],
      "text/plain": [
       "   index        TX        TY             X             Y        Z      chi2  \\\n",
       "0      0 -0.110714 -0.040569  59331.917969  49500.554688   6465.0  2.033096   \n",
       "1      1 -0.165904  0.159821  34738.796875  68337.164062  41376.0  0.369803   \n",
       "2      2  0.694244 -0.107642  68450.296875  45701.441406  59478.0  1.266626   \n",
       "3      3  0.370796 -0.016071  50257.199219  76170.953125  71115.0  2.767298   \n",
       "4      4  0.278292  0.332729  59803.960938   5938.398438   5172.0  2.794279   \n",
       "\n",
       "   ele_P  data_ind  \n",
       "0    NaN       221  \n",
       "1    NaN        21  \n",
       "2    NaN       347  \n",
       "3    NaN       133  \n",
       "4    NaN        23  "
      ]
     },
     "execution_count": 8,
     "metadata": {},
     "output_type": "execute_result"
    }
   ],
   "source": [
    "df_test = pd.read_csv('new_test.csv')\n",
    "df_test.head()"
   ]
  },
  {
   "cell_type": "code",
   "execution_count": 13,
   "metadata": {
    "collapsed": true
   },
   "outputs": [],
   "source": [
    "X_test = df_test[df_test.columns[1:8]]"
   ]
  },
  {
   "cell_type": "code",
   "execution_count": 14,
   "metadata": {
    "collapsed": false,
    "scrolled": true
   },
   "outputs": [
    {
     "data": {
      "text/plain": [
       "7496796"
      ]
     },
     "execution_count": 14,
     "metadata": {},
     "output_type": "execute_result"
    }
   ],
   "source": [
    "len(X_test)"
   ]
  },
  {
   "cell_type": "code",
   "execution_count": 15,
   "metadata": {
    "collapsed": true
   },
   "outputs": [],
   "source": [
    "X_test = X_test.fillna(0)"
   ]
  },
  {
   "cell_type": "code",
   "execution_count": 19,
   "metadata": {
    "collapsed": false,
    "scrolled": true
   },
   "outputs": [],
   "source": [
    "y_pred_test = lr.predict_proba(X_test)[:,1]"
   ]
  },
  {
   "cell_type": "code",
   "execution_count": 20,
   "metadata": {
    "collapsed": false
   },
   "outputs": [
    {
     "data": {
      "text/html": [
       "<div>\n",
       "<table border=\"1\" class=\"dataframe\">\n",
       "  <thead>\n",
       "    <tr style=\"text-align: right;\">\n",
       "      <th></th>\n",
       "      <th>index</th>\n",
       "      <th>signal</th>\n",
       "    </tr>\n",
       "  </thead>\n",
       "  <tbody>\n",
       "    <tr>\n",
       "      <th>0</th>\n",
       "      <td>0</td>\n",
       "      <td>0.677699</td>\n",
       "    </tr>\n",
       "    <tr>\n",
       "      <th>1</th>\n",
       "      <td>1</td>\n",
       "      <td>0.123268</td>\n",
       "    </tr>\n",
       "    <tr>\n",
       "      <th>2</th>\n",
       "      <td>2</td>\n",
       "      <td>0.422209</td>\n",
       "    </tr>\n",
       "    <tr>\n",
       "      <th>3</th>\n",
       "      <td>3</td>\n",
       "      <td>0.922433</td>\n",
       "    </tr>\n",
       "    <tr>\n",
       "      <th>4</th>\n",
       "      <td>4</td>\n",
       "      <td>0.931426</td>\n",
       "    </tr>\n",
       "  </tbody>\n",
       "</table>\n",
       "</div>"
      ],
      "text/plain": [
       "   index    signal\n",
       "0      0  0.677699\n",
       "1      1  0.123268\n",
       "2      2  0.422209\n",
       "3      3  0.922433\n",
       "4      4  0.931426"
      ]
     },
     "execution_count": 20,
     "metadata": {},
     "output_type": "execute_result"
    }
   ],
   "source": [
    "sub = pd.read_csv(\"new_res_sample.csv\")\n",
    "sub.head()"
   ]
  },
  {
   "cell_type": "code",
   "execution_count": 21,
   "metadata": {
    "collapsed": true
   },
   "outputs": [],
   "source": [
    "sub.signal = y_pred_test\n",
    "sub.to_csv(\"new_res_sample.csv\", index=False)"
   ]
  },
  {
   "cell_type": "code",
   "execution_count": null,
   "metadata": {
    "collapsed": false
   },
   "outputs": [],
   "source": [
    "sub.head()"
   ]
  }
 ],
 "metadata": {
  "kernelspec": {
   "display_name": "Python 2",
   "language": "python",
   "name": "python2"
  },
  "language_info": {
   "codemirror_mode": {
    "name": "ipython",
    "version": 2
   },
   "file_extension": ".py",
   "mimetype": "text/x-python",
   "name": "python",
   "nbconvert_exporter": "python",
   "pygments_lexer": "ipython2",
   "version": "2.7.13"
  },
  "widgets": {
   "state": {},
   "version": "1.1.1"
  }
 },
 "nbformat": 4,
 "nbformat_minor": 2
}
