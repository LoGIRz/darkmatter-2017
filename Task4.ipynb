{
 "cells": [
  {
   "cell_type": "code",
   "execution_count": null,
   "metadata": {},
   "outputs": [],
   "source": [
    "import glob\n",
    "import numpy as np\n",
    "import pandas as pd\n",
    "import matplotlib.pyplot as plt\n",
    "from sklearn.neighbors import BallTree\n",
    "import lightgbm as lgb\n",
    "from mpl_toolkits.mplot3d import Axes3D\n",
    "from tqdm import tqdm"
   ]
  },
  {
   "cell_type": "code",
   "execution_count": null,
   "metadata": {
    "scrolled": true
   },
   "outputs": [],
   "source": [
    "train = pd.DataFrame()\n",
    "for f in tqdm(glob.glob('./data/dm4/open*.h5')):\n",
    "    chunk = pd.read_hdf(f)\n",
    "    train = train.append(chunk, ignore_index=True)"
   ]
  },
  {
   "cell_type": "code",
   "execution_count": null,
   "metadata": {},
   "outputs": [],
   "source": [
    "train.head()"
   ]
  },
  {
   "cell_type": "code",
   "execution_count": null,
   "metadata": {
    "scrolled": true
   },
   "outputs": [],
   "source": [
    "train.data_ind.unique()"
   ]
  },
  {
   "cell_type": "code",
   "execution_count": null,
   "metadata": {},
   "outputs": [],
   "source": [
    "indiv = train[train.data_ind == 9]\n",
    "indiv.shape"
   ]
  },
  {
   "cell_type": "code",
   "execution_count": null,
   "metadata": {},
   "outputs": [],
   "source": [
    "for event_id in indiv.event_id.unique()[1:]:\n",
    "    ev = indiv[indiv.event_id == event_id]\n",
    "    ax = plt.gca(projection='3d')\n",
    "    ax.scatter3D(ev.X, ev.Y, ev.Z)"
   ]
  },
  {
   "cell_type": "code",
   "execution_count": null,
   "metadata": {},
   "outputs": [],
   "source": [
    "sorted(indiv.event_id.unique())"
   ]
  },
  {
   "cell_type": "code",
   "execution_count": null,
   "metadata": {},
   "outputs": [],
   "source": [
    "event = indiv[indiv.event_id == 186145]"
   ]
  },
  {
   "cell_type": "code",
   "execution_count": null,
   "metadata": {},
   "outputs": [],
   "source": [
    "z = np.array(sorted(indiv.Z.unique()))"
   ]
  },
  {
   "cell_type": "code",
   "execution_count": null,
   "metadata": {
    "scrolled": false
   },
   "outputs": [],
   "source": [
    "z[1:] - z[:-1]"
   ]
  },
  {
   "cell_type": "markdown",
   "metadata": {},
   "source": [
    "Here we'll quickly check if 1293 is indeed the normal Z-distance between slices:"
   ]
  },
  {
   "cell_type": "code",
   "execution_count": null,
   "metadata": {},
   "outputs": [],
   "source": [
    "(values,counts) = np.unique(z[1:] - z[:-1], return_counts=True)\n",
    "dist = values[np.argmax(counts)]"
   ]
  },
  {
   "cell_type": "code",
   "execution_count": null,
   "metadata": {},
   "outputs": [],
   "source": [
    "print(dist)"
   ]
  },
  {
   "cell_type": "code",
   "execution_count": null,
   "metadata": {},
   "outputs": [],
   "source": [
    "np.unique(indiv.event_id, return_counts=True)"
   ]
  },
  {
   "cell_type": "markdown",
   "metadata": {},
   "source": [
    "Our prediction model will generate data as a first-order (linear) \n",
    "approximation along the Z axis using the dist variable from above "
   ]
  },
  {
   "cell_type": "code",
   "execution_count": null,
   "metadata": {},
   "outputs": [],
   "source": [
    "cols = ['TX', 'TY', 'X', 'Y', 'Z']\n",
    "colsButZ = cols[:-1]"
   ]
  },
  {
   "cell_type": "code",
   "execution_count": null,
   "metadata": {},
   "outputs": [],
   "source": [
    "def gen_linear(df, metric='minkowski'):\n",
    "    out = []\n",
    "    \n",
    "    for data_ind in tqdm(df.data_ind.unique()):\n",
    "        ind = df[df.data_ind == data_ind]\n",
    "        vals = list(sorted(ind.Z.unique()))\n",
    "        \n",
    "        for z, z_next in zip(vals, vals[1:]):\n",
    "            z = ind[ind.Z == z].copy()\n",
    "            z_next = ind[ind.Z == z_next].copy()\n",
    "            \n",
    "            z[['TX', 'TY']] *= dist\n",
    "            z_next[['TX', 'TY']] *= dist\n",
    "            \n",
    "            bt = BallTree(z_next[colsButZ], metric=metric)\n",
    "            d, i = bt.query(z[colsButZ])\n",
    "            data = z_next.iloc[i[:, 0]]\n",
    "            \n",
    "            for col in cols:\n",
    "                z[col + '_pair'] = data[col].values\n",
    "            if 'event_id' in data.columns:\n",
    "                z['same_pair'] = data.event_id.values == z.event_id.values\n",
    "            out.append(z)\n",
    "            \n",
    "        out.append(z_next)\n",
    "        \n",
    "    out = pd.concat(out)\n",
    "    for col in cols:\n",
    "        out['d' + col] = out[col].values - out[col + '_pair'].values\n",
    "    return out"
   ]
  },
  {
   "cell_type": "code",
   "execution_count": null,
   "metadata": {},
   "outputs": [],
   "source": [
    "trainPairs = gen_linear(train)\n",
    "trainPairs.head()"
   ]
  },
  {
   "cell_type": "code",
   "execution_count": null,
   "metadata": {},
   "outputs": [],
   "source": [
    "X_train = trainPairs[trainPairs.same_pair.notnull()]\n",
    "y_train = X_train['same_pair'].astype(int)\n",
    "\n",
    "X_train = X_train.drop(['event_id', 'signal', 'data_ind', 'same_pair'], axis=1)\n",
    "X_train.head()"
   ]
  },
  {
   "cell_type": "code",
   "execution_count": null,
   "metadata": {},
   "outputs": [],
   "source": [
    "lgb_train = lgb.Dataset(X_train, y_train)"
   ]
  },
  {
   "cell_type": "code",
   "execution_count": null,
   "metadata": {},
   "outputs": [],
   "source": [
    "params = {\n",
    "    'boosting_type': 'gbdt',\n",
    "    'objective': 'binary',\n",
    "    'boost_from_average':'false',\n",
    "    'metric': 'auc',\n",
    "    'num_leaves': 31,\n",
    "    'learning_rate': 0.05,\n",
    "    'max_depth': 15,\n",
    "    'feature_fraction': 0.7,\n",
    "    'bagging_fraction': 0.7,\n",
    "    'bagging_freq': 4\n",
    "}"
   ]
  },
  {
   "cell_type": "code",
   "execution_count": null,
   "metadata": {},
   "outputs": [],
   "source": [
    "nRounds = 20\n",
    "lgb.cv(params, lgb_train, nRounds, nfold=5)"
   ]
  },
  {
   "cell_type": "code",
   "execution_count": null,
   "metadata": {},
   "outputs": [],
   "source": [
    "nRounds = 100\n",
    "bst = lgb.train(params, lgb_train, nRounds)"
   ]
  },
  {
   "cell_type": "code",
   "execution_count": null,
   "metadata": {},
   "outputs": [],
   "source": [
    "test = pd.concat([pd.read_hdf(file) for file in ['./data/4/test_close0.h5', './data/4/test_close10.h5']])\n",
    "test = test.reset_index(drop=True)\n",
    "print(test.shape)\n",
    "test.head()"
   ]
  },
  {
   "cell_type": "code",
   "execution_count": null,
   "metadata": {},
   "outputs": [],
   "source": [
    "testPairs = gen_linear(test)"
   ]
  },
  {
   "cell_type": "code",
   "execution_count": null,
   "metadata": {},
   "outputs": [],
   "source": [
    "X_test = testPairs.drop(['data_ind'], axis=1).reset_index(drop=True)\n",
    "X_test.head()"
   ]
  },
  {
   "cell_type": "code",
   "execution_count": null,
   "metadata": {},
   "outputs": [],
   "source": [
    "y_pred = bst.predict(X_test)"
   ]
  },
  {
   "cell_type": "code",
   "execution_count": null,
   "metadata": {},
   "outputs": [],
   "source": [
    "outRaw = pd.DataFrame({'id': testPairs.index, 'prob': y_pred}).groupby('id')\n",
    "agg = outRaw.aggregate(('mean', 'max', 'min'))['prob']"
   ]
  },
  {
   "cell_type": "code",
   "execution_count": null,
   "metadata": {},
   "outputs": [],
   "source": [
    "result = pd.DataFrame(data={'id': agg.index, 'signal': agg['mean'].values})\n",
    "result.head()"
   ]
  },
  {
   "cell_type": "code",
   "execution_count": null,
   "metadata": {},
   "outputs": [],
   "source": [
    "(result.signal > .5).sum()"
   ]
  },
  {
   "cell_type": "code",
   "execution_count": null,
   "metadata": {},
   "outputs": [],
   "source": [
    "result.to_csv('./data/4/submit.csv', index=False)"
   ]
  },
  {
   "cell_type": "code",
   "execution_count": null,
   "metadata": {},
   "outputs": [],
   "source": []
  }
 ],
 "metadata": {
  "kernelspec": {
   "display_name": "Python 3",
   "language": "python",
   "name": "python3"
  },
  "language_info": {
   "codemirror_mode": {
    "name": "ipython",
    "version": 3
   },
   "file_extension": ".py",
   "mimetype": "text/x-python",
   "name": "python",
   "nbconvert_exporter": "python",
   "pygments_lexer": "ipython3",
   "version": "3.6.6"
  }
 },
 "nbformat": 4,
 "nbformat_minor": 2
}
