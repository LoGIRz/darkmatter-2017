{
 "cells": [
  {
   "cell_type": "code",
   "execution_count": null,
   "metadata": {
    "collapsed": true
   },
   "outputs": [],
   "source": [
    "import pandas as pd\n",
    "import numpy as np\n",
    "import matplotlib.pyplot as plt\n",
    "from IPython.display import display"
   ]
  },
  {
   "cell_type": "code",
   "execution_count": null,
   "metadata": {
    "collapsed": true
   },
   "outputs": [],
   "source": [
    "train = pd.read_csv('data/dm3/open100.csv')"
   ]
  },
  {
   "cell_type": "code",
   "execution_count": null,
   "metadata": {
    "scrolled": true
   },
   "outputs": [],
   "source": [
    "print(train.shape)\n",
    "train.head()"
   ]
  },
  {
   "cell_type": "code",
   "execution_count": null,
   "metadata": {},
   "outputs": [],
   "source": [
    "print(sorted(train.data_ind.unique()))\n",
    "print(train.data_ind.unique().shape)"
   ]
  },
  {
   "cell_type": "code",
   "execution_count": null,
   "metadata": {},
   "outputs": [],
   "source": [
    "train.loc[train.data_ind.isin(['15'])].loc[train.signal.isin(['0'])].Z.unique()"
   ]
  },
  {
   "cell_type": "code",
   "execution_count": null,
   "metadata": {},
   "outputs": [],
   "source": [
    "sss = sorted(train.Z.unique())\n",
    "min(np.array(sss[1:]) - np.array(sss[:-1]))"
   ]
  },
  {
   "cell_type": "code",
   "execution_count": null,
   "metadata": {},
   "outputs": [],
   "source": [
    "train.loc[train.data_ind.isin(['54'])].hist(column='X', by='signal', bins=59)\n",
    "train.loc[train.data_ind.isin(['54'])].hist(column='X', bins=59)\n",
    "train.loc[train.data_ind.isin(['54'])].hist(column='Y', by='signal', bins=59)\n",
    "train.loc[train.data_ind.isin(['54'])].hist(column='Y', bins=59)\n",
    "train.loc[train.data_ind.isin(['54'])].hist(column='Z', by='signal', bins=58)\n",
    "train.loc[train.data_ind.isin(['54'])].hist(column='Z', bins=58)\n",
    "plt.show()"
   ]
  },
  {
   "cell_type": "code",
   "execution_count": null,
   "metadata": {
    "collapsed": true
   },
   "outputs": [],
   "source": [
    "test = pd.read_csv('data/dm3/test_50.csv')"
   ]
  },
  {
   "cell_type": "code",
   "execution_count": null,
   "metadata": {},
   "outputs": [],
   "source": [
    "print(sorted(test.data_ind.unique()))"
   ]
  },
  {
   "cell_type": "code",
   "execution_count": null,
   "metadata": {},
   "outputs": [],
   "source": [
    "test.loc[test.data_ind.isin(['2725'])].hist(column='X', bins=100)\n",
    "test.loc[test.data_ind.isin(['2725'])].hist(column='Y', bins=100)\n",
    "test.loc[test.data_ind.isin(['2725'])].hist(column='Z', bins=100)\n",
    "plt.show()"
   ]
  },
  {
   "cell_type": "code",
   "execution_count": null,
   "metadata": {},
   "outputs": [],
   "source": [
    "test.loc[test.data_ind.isin(['2705'])].Z.unique()"
   ]
  },
  {
   "cell_type": "code",
   "execution_count": null,
   "metadata": {},
   "outputs": [],
   "source": [
    "def find_origin(array, index):\n",
    "    raw_array = array.loc[array.data_ind.isin([index])].Z.unique()\n",
    "    value = list(filter(lambda x: np.trunc(x) != x, raw_array))[0]\n",
    "    subarray = array.loc[array.data_ind.isin([index])]\n",
    "    return subarray.loc[subarray.Z.isin([value])]\n",
    "    \n",
    "find_origin(test, 2705)"
   ]
  },
  {
   "cell_type": "code",
   "execution_count": null,
   "metadata": {},
   "outputs": [],
   "source": [
    "X_test = pd.DataFrame()\n",
    "\n",
    "for ind in test.data_ind.unique():\n",
    "    origin = find_origin(test, ind)\n",
    "    data = test.loc[test.data_ind.isin([ind])]\n",
    "    #display(data.head())\n",
    "    data_shift = pd.DataFrame()\n",
    "    data_shift['DX'] = data['X'] - origin.iloc[0]['X']\n",
    "    data_shift['DY'] = data['Y'] - origin.iloc[0]['Y']\n",
    "    data_shift['DZ'] = data['Z'] - origin.iloc[0]['Z']\n",
    "    data_shift['DTX'] = np.tan(np.arctan(data['TX']) - np.arctan(origin.iloc[0]['TX']))\n",
    "    data_shift['DTY'] = np.tan(np.arctan(data['TY']) - np.arctan(origin.iloc[0]['TY']))\n",
    "    X_test = X_test.append(data_shift, ignore_index=True)\n",
    "    #display(data_shift.head())\n",
    "    #print(data_shift.shape)\n",
    "\n",
    "print(X_test.shape)\n",
    "display(X_test.head())"
   ]
  },
  {
   "cell_type": "code",
   "execution_count": null,
   "metadata": {},
   "outputs": [],
   "source": [
    "Xy_train = pd.DataFrame()\n",
    "\n",
    "for ind in train.data_ind.unique():\n",
    "    try:\n",
    "        origin = find_origin(train, ind)\n",
    "    except:\n",
    "        print(\"Can't find origin {}\".format(ind))\n",
    "        continue\n",
    "    data = train.loc[train.data_ind.isin([ind])]\n",
    "    #display(data.head())\n",
    "    data_shift = pd.DataFrame()\n",
    "    data_shift['DX'] = data['X'] - origin.iloc[0]['X']\n",
    "    data_shift['DY'] = data['Y'] - origin.iloc[0]['Y']\n",
    "    data_shift['DZ'] = data['Z'] - origin.iloc[0]['Z']\n",
    "    data_shift['DTX'] = np.tan(np.arctan(data['TX']) - np.arctan(origin.iloc[0]['TX']))\n",
    "    data_shift['DTY'] = np.tan(np.arctan(data['TY']) - np.arctan(origin.iloc[0]['TY']))\n",
    "    data_shift['signal'] = data['signal']\n",
    "    Xy_train = Xy_train.append(data_shift, ignore_index=True)\n",
    "    #display(data_shift.head())\n",
    "    #print(data_shift.shape)\n",
    "\n",
    "print(Xy_train.shape)\n",
    "display(Xy_train.head())"
   ]
  },
  {
   "cell_type": "code",
   "execution_count": null,
   "metadata": {},
   "outputs": [],
   "source": [
    "import lightgbm as lgb"
   ]
  },
  {
   "cell_type": "code",
   "execution_count": 19,
   "metadata": {},
   "outputs": [],
   "source": [
    "y_train = Xy_train['signal']\n",
    "X_train = Xy_train.drop(['signal'],axis=1)"
   ]
  },
  {
   "cell_type": "code",
   "execution_count": 20,
   "metadata": {
    "collapsed": true
   },
   "outputs": [],
   "source": [
    "lgb_train = lgb.Dataset(X_train, y_train)"
   ]
  },
  {
   "cell_type": "code",
   "execution_count": 21,
   "metadata": {
    "collapsed": true
   },
   "outputs": [],
   "source": [
    "params = {\n",
    "    'boosting_type': 'gbdt',\n",
    "    'objective': 'binary',\n",
    "    'metric': 'auc',\n",
    "    'num_leaves': 31,\n",
    "    'learning_rate': 0.05,\n",
    "    'max_depth': 15,\n",
    "    'feature_fraction': 0.7,\n",
    "    'bagging_fraction': 0.7,\n",
    "    'bagging_freq': 4\n",
    "}"
   ]
  },
  {
   "cell_type": "code",
   "execution_count": 22,
   "metadata": {},
   "outputs": [
    {
     "data": {
      "text/plain": [
       "{'auc-mean': [0.91861424056056418,\n",
       "  0.92865771403097142,\n",
       "  0.96562620388190556,\n",
       "  0.96665617934857229,\n",
       "  0.97388491142516631,\n",
       "  0.97342221408200924,\n",
       "  0.9714089534796434,\n",
       "  0.97353750321070365,\n",
       "  0.97444898182159223,\n",
       "  0.97345174634407927,\n",
       "  0.97387147130278995,\n",
       "  0.97401545444330129,\n",
       "  0.9729677267602358,\n",
       "  0.97400679129387135,\n",
       "  0.97444377614472921,\n",
       "  0.97455360347946318,\n",
       "  0.97446232508998554,\n",
       "  0.97519751280964073,\n",
       "  0.97551230285408819,\n",
       "  0.97493124780543894],\n",
       " 'auc-stdv': [0.0025411865881593268,\n",
       "  0.0014373382456020179,\n",
       "  0.0007477014417584571,\n",
       "  0.00096219090787870334,\n",
       "  0.0010551444940922431,\n",
       "  0.0010226012627809339,\n",
       "  0.0010286543667528611,\n",
       "  0.00087720272813067229,\n",
       "  0.00080834310048508282,\n",
       "  0.00082359393066323372,\n",
       "  0.00075113875693397475,\n",
       "  0.0006008495309812185,\n",
       "  0.00057633591748144811,\n",
       "  0.00057972005097419322,\n",
       "  0.00058318527166649513,\n",
       "  0.00063777471864663875,\n",
       "  0.00065895042064216763,\n",
       "  0.00060725525067555368,\n",
       "  0.00055518822515574352,\n",
       "  0.00053927899918493902]}"
      ]
     },
     "execution_count": 22,
     "metadata": {},
     "output_type": "execute_result"
    }
   ],
   "source": [
    "num_round = 20\n",
    "lgb.cv(params, lgb_train, num_round, nfold=3)"
   ]
  },
  {
   "cell_type": "code",
   "execution_count": 23,
   "metadata": {
    "collapsed": true
   },
   "outputs": [],
   "source": [
    "num_round = 100\n",
    "bst = lgb.train(params, lgb_train, num_round)"
   ]
  },
  {
   "cell_type": "code",
   "execution_count": 25,
   "metadata": {
    "collapsed": true
   },
   "outputs": [],
   "source": [
    "ypred = bst.predict(X_test)"
   ]
  },
  {
   "cell_type": "code",
   "execution_count": 32,
   "metadata": {},
   "outputs": [],
   "source": [
    "result = pd.DataFrame(data={'signal': ypred})\n",
    "result.insert(0, 'id', range(len(result)))"
   ]
  },
  {
   "cell_type": "code",
   "execution_count": 33,
   "metadata": {},
   "outputs": [
    {
     "name": "stdout",
     "output_type": "stream",
     "text": [
      "(13726164, 2)\n"
     ]
    },
    {
     "data": {
      "text/html": [
       "<div>\n",
       "<style>\n",
       "    .dataframe thead tr:only-child th {\n",
       "        text-align: right;\n",
       "    }\n",
       "\n",
       "    .dataframe thead th {\n",
       "        text-align: left;\n",
       "    }\n",
       "\n",
       "    .dataframe tbody tr th {\n",
       "        vertical-align: top;\n",
       "    }\n",
       "</style>\n",
       "<table border=\"1\" class=\"dataframe\">\n",
       "  <thead>\n",
       "    <tr style=\"text-align: right;\">\n",
       "      <th></th>\n",
       "      <th>id</th>\n",
       "      <th>signal</th>\n",
       "    </tr>\n",
       "  </thead>\n",
       "  <tbody>\n",
       "    <tr>\n",
       "      <th>0</th>\n",
       "      <td>0</td>\n",
       "      <td>0.003818</td>\n",
       "    </tr>\n",
       "    <tr>\n",
       "      <th>1</th>\n",
       "      <td>1</td>\n",
       "      <td>0.010382</td>\n",
       "    </tr>\n",
       "    <tr>\n",
       "      <th>2</th>\n",
       "      <td>2</td>\n",
       "      <td>0.005745</td>\n",
       "    </tr>\n",
       "    <tr>\n",
       "      <th>3</th>\n",
       "      <td>3</td>\n",
       "      <td>0.003707</td>\n",
       "    </tr>\n",
       "    <tr>\n",
       "      <th>4</th>\n",
       "      <td>4</td>\n",
       "      <td>0.003450</td>\n",
       "    </tr>\n",
       "  </tbody>\n",
       "</table>\n",
       "</div>"
      ],
      "text/plain": [
       "   id    signal\n",
       "0   0  0.003818\n",
       "1   1  0.010382\n",
       "2   2  0.005745\n",
       "3   3  0.003707\n",
       "4   4  0.003450"
      ]
     },
     "execution_count": 33,
     "metadata": {},
     "output_type": "execute_result"
    }
   ],
   "source": [
    "print(result.shape)\n",
    "result.head()"
   ]
  },
  {
   "cell_type": "code",
   "execution_count": 34,
   "metadata": {},
   "outputs": [],
   "source": [
    "result.to_csv('data/dm3/result-1.csv',index=False)"
   ]
  },
  {
   "cell_type": "code",
   "execution_count": null,
   "metadata": {
    "collapsed": true
   },
   "outputs": [],
   "source": []
  }
 ],
 "metadata": {
  "kernelspec": {
   "display_name": "Python 3",
   "language": "python",
   "name": "python3"
  },
  "language_info": {
   "codemirror_mode": {
    "name": "ipython",
    "version": 3
   },
   "file_extension": ".py",
   "mimetype": "text/x-python",
   "name": "python",
   "nbconvert_exporter": "python",
   "pygments_lexer": "ipython3",
   "version": "3.6.2"
  }
 },
 "nbformat": 4,
 "nbformat_minor": 2
}
