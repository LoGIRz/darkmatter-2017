{
 "cells": [
  {
   "cell_type": "code",
   "execution_count": 1,
   "metadata": {
    "collapsed": true
   },
   "outputs": [],
   "source": [
    "import pandas as pd\n",
    "import numpy as np\n",
    "import matplotlib.pyplot as plt"
   ]
  },
  {
   "cell_type": "markdown",
   "metadata": {},
   "source": [
    "Посмотрим на данные"
   ]
  },
  {
   "cell_type": "code",
   "execution_count": 2,
   "metadata": {
    "collapsed": true
   },
   "outputs": [],
   "source": [
    "train = pd.read_csv('data/dm3/open100.csv')"
   ]
  },
  {
   "cell_type": "code",
   "execution_count": 3,
   "metadata": {
    "scrolled": true
   },
   "outputs": [
    {
     "name": "stdout",
     "output_type": "stream",
     "text": [
      "(27442600, 8)\n"
     ]
    },
    {
     "data": {
      "text/html": [
       "<div>\n",
       "<style scoped>\n",
       "    .dataframe tbody tr th:only-of-type {\n",
       "        vertical-align: middle;\n",
       "    }\n",
       "\n",
       "    .dataframe tbody tr th {\n",
       "        vertical-align: top;\n",
       "    }\n",
       "\n",
       "    .dataframe thead th {\n",
       "        text-align: right;\n",
       "    }\n",
       "</style>\n",
       "<table border=\"1\" class=\"dataframe\">\n",
       "  <thead>\n",
       "    <tr style=\"text-align: right;\">\n",
       "      <th></th>\n",
       "      <th>id</th>\n",
       "      <th>TX</th>\n",
       "      <th>TY</th>\n",
       "      <th>X</th>\n",
       "      <th>Y</th>\n",
       "      <th>Z</th>\n",
       "      <th>signal</th>\n",
       "      <th>data_ind</th>\n",
       "    </tr>\n",
       "  </thead>\n",
       "  <tbody>\n",
       "    <tr>\n",
       "      <th>0</th>\n",
       "      <td>0</td>\n",
       "      <td>-0.198782</td>\n",
       "      <td>-0.647470</td>\n",
       "      <td>29682.042969</td>\n",
       "      <td>61717.070312</td>\n",
       "      <td>2586.0</td>\n",
       "      <td>0</td>\n",
       "      <td>1</td>\n",
       "    </tr>\n",
       "    <tr>\n",
       "      <th>1</th>\n",
       "      <td>1</td>\n",
       "      <td>-0.022600</td>\n",
       "      <td>-0.321373</td>\n",
       "      <td>64486.812500</td>\n",
       "      <td>34733.046875</td>\n",
       "      <td>42669.0</td>\n",
       "      <td>0</td>\n",
       "      <td>1</td>\n",
       "    </tr>\n",
       "    <tr>\n",
       "      <th>2</th>\n",
       "      <td>2</td>\n",
       "      <td>-0.071057</td>\n",
       "      <td>-0.204883</td>\n",
       "      <td>46626.039062</td>\n",
       "      <td>30379.675781</td>\n",
       "      <td>11637.0</td>\n",
       "      <td>0</td>\n",
       "      <td>1</td>\n",
       "    </tr>\n",
       "    <tr>\n",
       "      <th>3</th>\n",
       "      <td>3</td>\n",
       "      <td>-0.004688</td>\n",
       "      <td>-0.167113</td>\n",
       "      <td>48441.671875</td>\n",
       "      <td>59463.445312</td>\n",
       "      <td>71115.0</td>\n",
       "      <td>0</td>\n",
       "      <td>1</td>\n",
       "    </tr>\n",
       "    <tr>\n",
       "      <th>4</th>\n",
       "      <td>4</td>\n",
       "      <td>-0.097321</td>\n",
       "      <td>-0.273475</td>\n",
       "      <td>49847.132812</td>\n",
       "      <td>60116.535156</td>\n",
       "      <td>53013.0</td>\n",
       "      <td>0</td>\n",
       "      <td>1</td>\n",
       "    </tr>\n",
       "  </tbody>\n",
       "</table>\n",
       "</div>"
      ],
      "text/plain": [
       "   id        TX        TY             X             Y        Z  signal  \\\n",
       "0   0 -0.198782 -0.647470  29682.042969  61717.070312   2586.0       0   \n",
       "1   1 -0.022600 -0.321373  64486.812500  34733.046875  42669.0       0   \n",
       "2   2 -0.071057 -0.204883  46626.039062  30379.675781  11637.0       0   \n",
       "3   3 -0.004688 -0.167113  48441.671875  59463.445312  71115.0       0   \n",
       "4   4 -0.097321 -0.273475  49847.132812  60116.535156  53013.0       0   \n",
       "\n",
       "   data_ind  \n",
       "0         1  \n",
       "1         1  \n",
       "2         1  \n",
       "3         1  \n",
       "4         1  "
      ]
     },
     "execution_count": 3,
     "metadata": {},
     "output_type": "execute_result"
    }
   ],
   "source": [
    "print(train.shape)\n",
    "train.head()"
   ]
  },
  {
   "cell_type": "code",
   "execution_count": 4,
   "metadata": {
    "collapsed": true
   },
   "outputs": [],
   "source": [
    "%matplotlib inline"
   ]
  },
  {
   "cell_type": "markdown",
   "metadata": {},
   "source": [
    "# Идея решения\n",
    "\n",
    " - Зафитим многочлен 3 порядка по каждой из осей\n",
    " - Надеемся, что шума достаточно много, и полученная кривая поймает именно шум\n",
    " - Вычтем кривую из координат\n",
    " - Обучимся с доп. фичами"
   ]
  },
  {
   "cell_type": "markdown",
   "metadata": {},
   "source": [
    "## Пример вычитания тренда"
   ]
  },
  {
   "cell_type": "code",
   "execution_count": 17,
   "metadata": {
    "collapsed": true
   },
   "outputs": [],
   "source": [
    "col = 'Y'\n",
    "ind = train[train.data_ind == 1]"
   ]
  },
  {
   "cell_type": "code",
   "execution_count": 18,
   "metadata": {
    "collapsed": true
   },
   "outputs": [],
   "source": [
    "y, x = np.histogram(ind[col], bins=200)\n",
    "slc = slice(3, -3)\n",
    "x, y = x[:-1][slc], y[slc]\n",
    "params = np.polyfit(x, y, 4)\n",
    "lin = 0\n",
    "for par in params:\n",
    "    lin = lin * x + par"
   ]
  },
  {
   "cell_type": "code",
   "execution_count": 21,
   "metadata": {},
   "outputs": [
    {
     "data": {
      "text/plain": [
       "<matplotlib.legend.Legend at 0x7f0d2e4f8e80>"
      ]
     },
     "execution_count": 21,
     "metadata": {},
     "output_type": "execute_result"
    },
    {
     "data": {
      "image/png": "[encoded data removed]",
      "text/plain": [
       "<Figure size 432x288 with 1 Axes>"
      ]
     },
     "metadata": {},
     "output_type": "display_data"
    }
   ],
   "source": [
    "plt.plot(x, y, label='Base')\n",
    "plt.plot(x, lin, label='Trend')\n",
    "plt.plot(x, y - lin, label='Detrending')\n",
    "plt.legend()"
   ]
  },
  {
   "cell_type": "markdown",
   "metadata": {},
   "source": [
    "Видно, что взяв аргмаксимум, можно найти примерную точку начала сигнала."
   ]
  },
  {
   "cell_type": "code",
   "execution_count": 22,
   "metadata": {
    "collapsed": true
   },
   "outputs": [],
   "source": [
    "def get_begin(ind):\n",
    "    \"\"\"\n",
    "    Fits a 3rd degree curve for each dimnesion\n",
    "    \"\"\"\n",
    "    res = []\n",
    "    for col in ['X', 'Y', 'Z']:\n",
    "        y, x = np.histogram(ind[col], bins=200)\n",
    "        slc = slice(3, -3)\n",
    "        x, y = x[:-1][slc], y[slc]\n",
    "        params = np.polyfit(x, y, 3)\n",
    "        lin = 0\n",
    "        for par in params:\n",
    "            lin = lin * x + par\n",
    "        \n",
    "        res.append(x[np.argmax(y - lin)])\n",
    "    return res\n",
    "\n",
    "def prepare(df):\n",
    "    \"\"\"\n",
    "    Adds detrended features to df\n",
    "    \"\"\"\n",
    "    result = []\n",
    "    for index in df.data_ind.unique():\n",
    "        ind = df[df.data_ind == index].copy()\n",
    "        begin = get_begin(ind)\n",
    "        ind['dX'] = ind.X - begin[0]\n",
    "        ind['dY'] = ind.Y - begin[1]\n",
    "        ind['dZ'] = ind.Z - begin[2]\n",
    "        result.append(ind)\n",
    "    return pd.concat(result)"
   ]
  },
  {
   "cell_type": "code",
   "execution_count": 23,
   "metadata": {
    "collapsed": true
   },
   "outputs": [],
   "source": [
    "df = prepare(train)"
   ]
  },
  {
   "cell_type": "code",
   "execution_count": 24,
   "metadata": {},
   "outputs": [
    {
     "data": {
      "text/html": [
       "<div>\n",
       "<style scoped>\n",
       "    .dataframe tbody tr th:only-of-type {\n",
       "        vertical-align: middle;\n",
       "    }\n",
       "\n",
       "    .dataframe tbody tr th {\n",
       "        vertical-align: top;\n",
       "    }\n",
       "\n",
       "    .dataframe thead th {\n",
       "        text-align: right;\n",
       "    }\n",
       "</style>\n",
       "<table border=\"1\" class=\"dataframe\">\n",
       "  <thead>\n",
       "    <tr style=\"text-align: right;\">\n",
       "      <th></th>\n",
       "      <th>id</th>\n",
       "      <th>TX</th>\n",
       "      <th>TY</th>\n",
       "      <th>X</th>\n",
       "      <th>Y</th>\n",
       "      <th>Z</th>\n",
       "      <th>signal</th>\n",
       "      <th>data_ind</th>\n",
       "      <th>dX</th>\n",
       "      <th>dY</th>\n",
       "      <th>dZ</th>\n",
       "    </tr>\n",
       "  </thead>\n",
       "  <tbody>\n",
       "    <tr>\n",
       "      <th>0</th>\n",
       "      <td>0</td>\n",
       "      <td>-0.198782</td>\n",
       "      <td>-0.647470</td>\n",
       "      <td>29682.042969</td>\n",
       "      <td>61717.070312</td>\n",
       "      <td>2586.0</td>\n",
       "      <td>0</td>\n",
       "      <td>1</td>\n",
       "      <td>97.914844</td>\n",
       "      <td>42163.540386</td>\n",
       "      <td>-39792.075</td>\n",
       "    </tr>\n",
       "    <tr>\n",
       "      <th>1</th>\n",
       "      <td>1</td>\n",
       "      <td>-0.022600</td>\n",
       "      <td>-0.321373</td>\n",
       "      <td>64486.812500</td>\n",
       "      <td>34733.046875</td>\n",
       "      <td>42669.0</td>\n",
       "      <td>0</td>\n",
       "      <td>1</td>\n",
       "      <td>34902.684375</td>\n",
       "      <td>15179.516948</td>\n",
       "      <td>290.925</td>\n",
       "    </tr>\n",
       "    <tr>\n",
       "      <th>2</th>\n",
       "      <td>2</td>\n",
       "      <td>-0.071057</td>\n",
       "      <td>-0.204883</td>\n",
       "      <td>46626.039062</td>\n",
       "      <td>30379.675781</td>\n",
       "      <td>11637.0</td>\n",
       "      <td>0</td>\n",
       "      <td>1</td>\n",
       "      <td>17041.910938</td>\n",
       "      <td>10826.145854</td>\n",
       "      <td>-30741.075</td>\n",
       "    </tr>\n",
       "    <tr>\n",
       "      <th>3</th>\n",
       "      <td>3</td>\n",
       "      <td>-0.004688</td>\n",
       "      <td>-0.167113</td>\n",
       "      <td>48441.671875</td>\n",
       "      <td>59463.445312</td>\n",
       "      <td>71115.0</td>\n",
       "      <td>0</td>\n",
       "      <td>1</td>\n",
       "      <td>18857.543750</td>\n",
       "      <td>39909.915386</td>\n",
       "      <td>28736.925</td>\n",
       "    </tr>\n",
       "    <tr>\n",
       "      <th>4</th>\n",
       "      <td>4</td>\n",
       "      <td>-0.097321</td>\n",
       "      <td>-0.273475</td>\n",
       "      <td>49847.132812</td>\n",
       "      <td>60116.535156</td>\n",
       "      <td>53013.0</td>\n",
       "      <td>0</td>\n",
       "      <td>1</td>\n",
       "      <td>20263.004688</td>\n",
       "      <td>40563.005229</td>\n",
       "      <td>10634.925</td>\n",
       "    </tr>\n",
       "  </tbody>\n",
       "</table>\n",
       "</div>"
      ],
      "text/plain": [
       "   id        TX        TY             X             Y        Z  signal  \\\n",
       "0   0 -0.198782 -0.647470  29682.042969  61717.070312   2586.0       0   \n",
       "1   1 -0.022600 -0.321373  64486.812500  34733.046875  42669.0       0   \n",
       "2   2 -0.071057 -0.204883  46626.039062  30379.675781  11637.0       0   \n",
       "3   3 -0.004688 -0.167113  48441.671875  59463.445312  71115.0       0   \n",
       "4   4 -0.097321 -0.273475  49847.132812  60116.535156  53013.0       0   \n",
       "\n",
       "   data_ind            dX            dY         dZ  \n",
       "0         1     97.914844  42163.540386 -39792.075  \n",
       "1         1  34902.684375  15179.516948    290.925  \n",
       "2         1  17041.910938  10826.145854 -30741.075  \n",
       "3         1  18857.543750  39909.915386  28736.925  \n",
       "4         1  20263.004688  40563.005229  10634.925  "
      ]
     },
     "execution_count": 24,
     "metadata": {},
     "output_type": "execute_result"
    }
   ],
   "source": [
    "df.head()"
   ]
  },
  {
   "cell_type": "markdown",
   "metadata": {},
   "source": [
    "## Обучаемся"
   ]
  },
  {
   "cell_type": "code",
   "execution_count": 18,
   "metadata": {
    "collapsed": true
   },
   "outputs": [],
   "source": [
    "import lightgbm as lgb"
   ]
  },
  {
   "cell_type": "code",
   "execution_count": 23,
   "metadata": {
    "collapsed": true
   },
   "outputs": [],
   "source": [
    "y_train = df['signal']\n",
    "X_train = df.drop(['signal', 'id', 'data_ind'],axis=1)"
   ]
  },
  {
   "cell_type": "code",
   "execution_count": 24,
   "metadata": {},
   "outputs": [
    {
     "data": {
      "text/html": [
       "<div>\n",
       "<style scoped>\n",
       "    .dataframe tbody tr th:only-of-type {\n",
       "        vertical-align: middle;\n",
       "    }\n",
       "\n",
       "    .dataframe tbody tr th {\n",
       "        vertical-align: top;\n",
       "    }\n",
       "\n",
       "    .dataframe thead th {\n",
       "        text-align: right;\n",
       "    }\n",
       "</style>\n",
       "<table border=\"1\" class=\"dataframe\">\n",
       "  <thead>\n",
       "    <tr style=\"text-align: right;\">\n",
       "      <th></th>\n",
       "      <th>TX</th>\n",
       "      <th>TY</th>\n",
       "      <th>X</th>\n",
       "      <th>Y</th>\n",
       "      <th>Z</th>\n",
       "      <th>dX</th>\n",
       "      <th>dY</th>\n",
       "      <th>dZ</th>\n",
       "    </tr>\n",
       "  </thead>\n",
       "  <tbody>\n",
       "    <tr>\n",
       "      <th>0</th>\n",
       "      <td>-0.198782</td>\n",
       "      <td>-0.647470</td>\n",
       "      <td>29682.042969</td>\n",
       "      <td>61717.070312</td>\n",
       "      <td>2586.0</td>\n",
       "      <td>97.914844</td>\n",
       "      <td>42163.540386</td>\n",
       "      <td>-39792.075</td>\n",
       "    </tr>\n",
       "    <tr>\n",
       "      <th>1</th>\n",
       "      <td>-0.022600</td>\n",
       "      <td>-0.321373</td>\n",
       "      <td>64486.812500</td>\n",
       "      <td>34733.046875</td>\n",
       "      <td>42669.0</td>\n",
       "      <td>34902.684375</td>\n",
       "      <td>15179.516948</td>\n",
       "      <td>290.925</td>\n",
       "    </tr>\n",
       "    <tr>\n",
       "      <th>2</th>\n",
       "      <td>-0.071057</td>\n",
       "      <td>-0.204883</td>\n",
       "      <td>46626.039062</td>\n",
       "      <td>30379.675781</td>\n",
       "      <td>11637.0</td>\n",
       "      <td>17041.910938</td>\n",
       "      <td>10826.145854</td>\n",
       "      <td>-30741.075</td>\n",
       "    </tr>\n",
       "    <tr>\n",
       "      <th>3</th>\n",
       "      <td>-0.004688</td>\n",
       "      <td>-0.167113</td>\n",
       "      <td>48441.671875</td>\n",
       "      <td>59463.445312</td>\n",
       "      <td>71115.0</td>\n",
       "      <td>18857.543750</td>\n",
       "      <td>39909.915386</td>\n",
       "      <td>28736.925</td>\n",
       "    </tr>\n",
       "    <tr>\n",
       "      <th>4</th>\n",
       "      <td>-0.097321</td>\n",
       "      <td>-0.273475</td>\n",
       "      <td>49847.132812</td>\n",
       "      <td>60116.535156</td>\n",
       "      <td>53013.0</td>\n",
       "      <td>20263.004688</td>\n",
       "      <td>40563.005229</td>\n",
       "      <td>10634.925</td>\n",
       "    </tr>\n",
       "  </tbody>\n",
       "</table>\n",
       "</div>"
      ],
      "text/plain": [
       "         TX        TY             X             Y        Z            dX  \\\n",
       "0 -0.198782 -0.647470  29682.042969  61717.070312   2586.0     97.914844   \n",
       "1 -0.022600 -0.321373  64486.812500  34733.046875  42669.0  34902.684375   \n",
       "2 -0.071057 -0.204883  46626.039062  30379.675781  11637.0  17041.910938   \n",
       "3 -0.004688 -0.167113  48441.671875  59463.445312  71115.0  18857.543750   \n",
       "4 -0.097321 -0.273475  49847.132812  60116.535156  53013.0  20263.004688   \n",
       "\n",
       "             dY         dZ  \n",
       "0  42163.540386 -39792.075  \n",
       "1  15179.516948    290.925  \n",
       "2  10826.145854 -30741.075  \n",
       "3  39909.915386  28736.925  \n",
       "4  40563.005229  10634.925  "
      ]
     },
     "execution_count": 24,
     "metadata": {},
     "output_type": "execute_result"
    }
   ],
   "source": [
    "X_train.head()"
   ]
  },
  {
   "cell_type": "code",
   "execution_count": 25,
   "metadata": {
    "collapsed": true
   },
   "outputs": [],
   "source": [
    "lgb_train = lgb.Dataset(X_train, y_train)"
   ]
  },
  {
   "cell_type": "code",
   "execution_count": 26,
   "metadata": {
    "collapsed": true
   },
   "outputs": [],
   "source": [
    "params = {\n",
    "    'boosting_type': 'gbdt',\n",
    "    'objective': 'binary',\n",
    "    'metric': 'auc',\n",
    "    'num_leaves': 31,\n",
    "    'learning_rate': 0.05,\n",
    "    'max_depth': 15,\n",
    "    'feature_fraction': 0.7,\n",
    "    'bagging_fraction': 0.7,\n",
    "    'bagging_freq': 4\n",
    "}"
   ]
  },
  {
   "cell_type": "code",
   "execution_count": 27,
   "metadata": {},
   "outputs": [
    {
     "data": {
      "text/plain": [
       "{'auc-mean': [0.8014889871075493,\n",
       "  0.9064155951381249,\n",
       "  0.9060223982582297,\n",
       "  0.9065437249797562,\n",
       "  0.9117225116275929,\n",
       "  0.9158095689226048,\n",
       "  0.9161613950831352,\n",
       "  0.9227961577145022,\n",
       "  0.9252479913732191,\n",
       "  0.9264630000945698,\n",
       "  0.926848859525801,\n",
       "  0.9260509611426236,\n",
       "  0.9259351938063577,\n",
       "  0.9256542228424202,\n",
       "  0.9264738008226169,\n",
       "  0.926369348951623,\n",
       "  0.926322762589618,\n",
       "  0.9261627463616734,\n",
       "  0.9258483343038372,\n",
       "  0.9255588455783985],\n",
       " 'auc-stdv': [0.005797454249275077,\n",
       "  0.0010008906683600552,\n",
       "  0.0008185128065904354,\n",
       "  0.0006853181320712296,\n",
       "  0.00029827647826444106,\n",
       "  0.0002501017217037329,\n",
       "  0.0005462982002961713,\n",
       "  0.00037522393826062457,\n",
       "  0.001428236969082335,\n",
       "  0.0013178393765076628,\n",
       "  0.0010059338848347615,\n",
       "  0.0010376838232343175,\n",
       "  0.0011900729809085574,\n",
       "  0.0012073383441736129,\n",
       "  0.00184425193560914,\n",
       "  0.0017976454013159445,\n",
       "  0.0018917492364595948,\n",
       "  0.0018096575844834821,\n",
       "  0.0016379015793856408,\n",
       "  0.0016233386196716948]}"
      ]
     },
     "execution_count": 27,
     "metadata": {},
     "output_type": "execute_result"
    }
   ],
   "source": [
    "num_round = 20\n",
    "lgb.cv(params, lgb_train, num_round, nfold=3)"
   ]
  },
  {
   "cell_type": "markdown",
   "metadata": {},
   "source": [
    "Вполне неплохое качество, для такой простой идеи."
   ]
  },
  {
   "cell_type": "markdown",
   "metadata": {},
   "source": [
    "## Финальная модель\n"
   ]
  },
  {
   "cell_type": "code",
   "execution_count": 28,
   "metadata": {
    "collapsed": true
   },
   "outputs": [],
   "source": [
    "num_round = 100\n",
    "bst = lgb.train(params, lgb_train, num_round)"
   ]
  },
  {
   "cell_type": "code",
   "execution_count": 29,
   "metadata": {
    "collapsed": true
   },
   "outputs": [],
   "source": [
    "test = pd.read_csv('data/dm3/test_50.csv')"
   ]
  },
  {
   "cell_type": "markdown",
   "metadata": {},
   "source": [
    "## Предсказание"
   ]
  },
  {
   "cell_type": "code",
   "execution_count": 30,
   "metadata": {
    "collapsed": true
   },
   "outputs": [],
   "source": [
    "df_test = prepare(test)"
   ]
  },
  {
   "cell_type": "code",
   "execution_count": 45,
   "metadata": {
    "collapsed": true
   },
   "outputs": [],
   "source": [
    "X_test = df_test.drop(['id', 'data_ind'], 1)"
   ]
  },
  {
   "cell_type": "code",
   "execution_count": 46,
   "metadata": {
    "collapsed": true
   },
   "outputs": [],
   "source": [
    "ypred = bst.predict(X_test)"
   ]
  },
  {
   "cell_type": "markdown",
   "metadata": {},
   "source": [
    "Чтобы занимать в 2 раза меньше места, конвертируем ответы в `float16`"
   ]
  },
  {
   "cell_type": "code",
   "execution_count": 59,
   "metadata": {
    "collapsed": true
   },
   "outputs": [],
   "source": [
    "result = pd.DataFrame(data={'id': df_test.id.astype(int), 'signal': ypred.astype('float16')})"
   ]
  },
  {
   "cell_type": "code",
   "execution_count": 60,
   "metadata": {},
   "outputs": [
    {
     "name": "stdout",
     "output_type": "stream",
     "text": [
      "(13726164, 2)\n"
     ]
    },
    {
     "data": {
      "text/html": [
       "<div>\n",
       "<style scoped>\n",
       "    .dataframe tbody tr th:only-of-type {\n",
       "        vertical-align: middle;\n",
       "    }\n",
       "\n",
       "    .dataframe tbody tr th {\n",
       "        vertical-align: top;\n",
       "    }\n",
       "\n",
       "    .dataframe thead th {\n",
       "        text-align: right;\n",
       "    }\n",
       "</style>\n",
       "<table border=\"1\" class=\"dataframe\">\n",
       "  <thead>\n",
       "    <tr style=\"text-align: right;\">\n",
       "      <th></th>\n",
       "      <th>id</th>\n",
       "      <th>signal</th>\n",
       "    </tr>\n",
       "  </thead>\n",
       "  <tbody>\n",
       "    <tr>\n",
       "      <th>0</th>\n",
       "      <td>0</td>\n",
       "      <td>0.004601</td>\n",
       "    </tr>\n",
       "    <tr>\n",
       "      <th>1</th>\n",
       "      <td>1</td>\n",
       "      <td>0.009537</td>\n",
       "    </tr>\n",
       "    <tr>\n",
       "      <th>2</th>\n",
       "      <td>2</td>\n",
       "      <td>0.008430</td>\n",
       "    </tr>\n",
       "    <tr>\n",
       "      <th>3</th>\n",
       "      <td>3</td>\n",
       "      <td>0.005550</td>\n",
       "    </tr>\n",
       "    <tr>\n",
       "      <th>4</th>\n",
       "      <td>4</td>\n",
       "      <td>0.004311</td>\n",
       "    </tr>\n",
       "  </tbody>\n",
       "</table>\n",
       "</div>"
      ],
      "text/plain": [
       "   id    signal\n",
       "0   0  0.004601\n",
       "1   1  0.009537\n",
       "2   2  0.008430\n",
       "3   3  0.005550\n",
       "4   4  0.004311"
      ]
     },
     "execution_count": 60,
     "metadata": {},
     "output_type": "execute_result"
    }
   ],
   "source": [
    "print(result.shape)\n",
    "result.head()"
   ]
  },
  {
   "cell_type": "markdown",
   "metadata": {},
   "source": [
    "## Сохраняем результат"
   ]
  },
  {
   "cell_type": "code",
   "execution_count": 61,
   "metadata": {
    "collapsed": true
   },
   "outputs": [],
   "source": [
    "result.to_csv('submit2.csv', index=False)"
   ]
  }
 ],
 "metadata": {
  "kernelspec": {
   "display_name": "Miniconda3",
   "language": "python",
   "name": "miniconda3"
  },
  "language_info": {
   "codemirror_mode": {
    "name": "ipython",
    "version": 3
   },
   "file_extension": ".py",
   "mimetype": "text/x-python",
   "name": "python",
   "nbconvert_exporter": "python",
   "pygments_lexer": "ipython3",
   "version": "3.6.4"
  }
 },
 "nbformat": 4,
 "nbformat_minor": 2
}
