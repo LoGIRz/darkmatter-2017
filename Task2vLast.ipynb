{
 "cells": [
  {
   "cell_type": "code",
   "execution_count": 1,
   "metadata": {},
   "outputs": [],
   "source": [
    "import pandas as pd\n",
    "import numpy as np\n",
    "from sklearn.model_selection import train_test_split \n",
    "from sklearn.svm import SVC\n",
    "import seaborn as sn\n",
    "from matplotlib import pyplot as plt\n",
    "from sklearn.metrics import accuracy_score\n",
    "from time import time\n",
    "from sklearn.preprocessing import StandardScaler\n",
    "import xgboost as xgb\n",
    "\n",
    "% matplotlib inline"
   ]
  },
  {
   "cell_type": "code",
   "execution_count": 2,
   "metadata": {},
   "outputs": [],
   "source": [
    "data = pd.read_csv('train.csv')"
   ]
  },
  {
   "cell_type": "code",
   "execution_count": 49,
   "metadata": {},
   "outputs": [],
   "source": [
    "# data1 = data.iloc[::10]"
   ]
  },
  {
   "cell_type": "code",
   "execution_count": 68,
   "metadata": {},
   "outputs": [],
   "source": [
    "relev_data = data.drop(columns=['index', 'ele_P', 'data_ind'])"
   ]
  },
  {
   "cell_type": "code",
   "execution_count": 69,
   "metadata": {},
   "outputs": [],
   "source": [
    "relev_data = relev_data.dropna()"
   ]
  },
  {
   "cell_type": "code",
   "execution_count": 70,
   "metadata": {},
   "outputs": [],
   "source": [
    "answers = relev_data.signal"
   ]
  },
  {
   "cell_type": "code",
   "execution_count": 71,
   "metadata": {},
   "outputs": [],
   "source": [
    "relev_data = relev_data.drop(columns=['signal'])"
   ]
  },
  {
   "cell_type": "code",
   "execution_count": 72,
   "metadata": {},
   "outputs": [],
   "source": [
    "# relev_data_one_hot = pd.get_dummies(relev_data, columns=[\"data_ind\", ])"
   ]
  },
  {
   "cell_type": "code",
   "execution_count": 73,
   "metadata": {
    "scrolled": true
   },
   "outputs": [],
   "source": [
    "# relev_data_one_hot.head()"
   ]
  },
  {
   "cell_type": "code",
   "execution_count": 74,
   "metadata": {
    "scrolled": true
   },
   "outputs": [
    {
     "data": {
      "text/html": [
       "<div>\n",
       "<style scoped>\n",
       "    .dataframe tbody tr th:only-of-type {\n",
       "        vertical-align: middle;\n",
       "    }\n",
       "\n",
       "    .dataframe tbody tr th {\n",
       "        vertical-align: top;\n",
       "    }\n",
       "\n",
       "    .dataframe thead th {\n",
       "        text-align: right;\n",
       "    }\n",
       "</style>\n",
       "<table border=\"1\" class=\"dataframe\">\n",
       "  <thead>\n",
       "    <tr style=\"text-align: right;\">\n",
       "      <th></th>\n",
       "      <th>TX</th>\n",
       "      <th>TY</th>\n",
       "      <th>X</th>\n",
       "      <th>Y</th>\n",
       "      <th>Z</th>\n",
       "      <th>chi2</th>\n",
       "    </tr>\n",
       "  </thead>\n",
       "  <tbody>\n",
       "    <tr>\n",
       "      <th>0</th>\n",
       "      <td>0.013209</td>\n",
       "      <td>0.067202</td>\n",
       "      <td>66081.937500</td>\n",
       "      <td>52968.695312</td>\n",
       "      <td>11637.0</td>\n",
       "      <td>0.880506</td>\n",
       "    </tr>\n",
       "    <tr>\n",
       "      <th>1</th>\n",
       "      <td>0.014165</td>\n",
       "      <td>0.071018</td>\n",
       "      <td>66100.265625</td>\n",
       "      <td>53058.140625</td>\n",
       "      <td>12930.0</td>\n",
       "      <td>0.522405</td>\n",
       "    </tr>\n",
       "    <tr>\n",
       "      <th>2</th>\n",
       "      <td>0.017983</td>\n",
       "      <td>0.069956</td>\n",
       "      <td>66118.492188</td>\n",
       "      <td>53147.492188</td>\n",
       "      <td>14223.0</td>\n",
       "      <td>0.971824</td>\n",
       "    </tr>\n",
       "    <tr>\n",
       "      <th>3</th>\n",
       "      <td>0.013956</td>\n",
       "      <td>-0.058355</td>\n",
       "      <td>66121.281250</td>\n",
       "      <td>53082.601562</td>\n",
       "      <td>14223.0</td>\n",
       "      <td>0.771712</td>\n",
       "    </tr>\n",
       "    <tr>\n",
       "      <th>4</th>\n",
       "      <td>0.002209</td>\n",
       "      <td>0.045891</td>\n",
       "      <td>66116.429688</td>\n",
       "      <td>53143.609375</td>\n",
       "      <td>14223.0</td>\n",
       "      <td>0.345887</td>\n",
       "    </tr>\n",
       "  </tbody>\n",
       "</table>\n",
       "</div>"
      ],
      "text/plain": [
       "         TX        TY             X             Y        Z      chi2\n",
       "0  0.013209  0.067202  66081.937500  52968.695312  11637.0  0.880506\n",
       "1  0.014165  0.071018  66100.265625  53058.140625  12930.0  0.522405\n",
       "2  0.017983  0.069956  66118.492188  53147.492188  14223.0  0.971824\n",
       "3  0.013956 -0.058355  66121.281250  53082.601562  14223.0  0.771712\n",
       "4  0.002209  0.045891  66116.429688  53143.609375  14223.0  0.345887"
      ]
     },
     "execution_count": 74,
     "metadata": {},
     "output_type": "execute_result"
    }
   ],
   "source": [
    "relev_data.head()"
   ]
  },
  {
   "cell_type": "code",
   "execution_count": 75,
   "metadata": {},
   "outputs": [],
   "source": [
    "X_train, X_test, y_train, y_test = train_test_split(relev_data, answers, test_size = 0.2)"
   ]
  },
  {
   "cell_type": "code",
   "execution_count": 76,
   "metadata": {},
   "outputs": [],
   "source": [
    "ss = StandardScaler()\n",
    "X_train_scaled = ss.fit_transform(X_train)"
   ]
  },
  {
   "cell_type": "code",
   "execution_count": 77,
   "metadata": {},
   "outputs": [],
   "source": [
    "ss = StandardScaler()\n",
    "X_test_scaled = ss.fit_transform(X_test)"
   ]
  },
  {
   "cell_type": "code",
   "execution_count": 78,
   "metadata": {},
   "outputs": [],
   "source": [
    "xgb_model = xgb.XGBClassifier()"
   ]
  },
  {
   "cell_type": "code",
   "execution_count": 79,
   "metadata": {},
   "outputs": [],
   "source": [
    "y_train = np.array(y_train)"
   ]
  },
  {
   "cell_type": "code",
   "execution_count": 80,
   "metadata": {},
   "outputs": [],
   "source": [
    "y_test = np.array(y_test)"
   ]
  },
  {
   "cell_type": "code",
   "execution_count": 81,
   "metadata": {},
   "outputs": [
    {
     "data": {
      "text/plain": [
       "XGBClassifier(base_score=0.5, booster='gbtree', colsample_bylevel=1,\n",
       "       colsample_bytree=1, gamma=0, learning_rate=0.1, max_delta_step=0,\n",
       "       max_depth=3, min_child_weight=1, missing=None, n_estimators=100,\n",
       "       n_jobs=1, nthread=None, objective='binary:logistic', random_state=0,\n",
       "       reg_alpha=0, reg_lambda=1, scale_pos_weight=1, seed=None,\n",
       "       silent=True, subsample=1)"
      ]
     },
     "execution_count": 81,
     "metadata": {},
     "output_type": "execute_result"
    }
   ],
   "source": [
    "xgb_model.fit(X_train_scaled, y_train)"
   ]
  },
  {
   "cell_type": "code",
   "execution_count": 82,
   "metadata": {},
   "outputs": [],
   "source": [
    "xg = xgb.DMatrix(X_test_scaled)"
   ]
  },
  {
   "cell_type": "code",
   "execution_count": 88,
   "metadata": {},
   "outputs": [],
   "source": [
    "xg_prediction = xgb_model.predict_proba(X_test_scaled)"
   ]
  },
  {
   "cell_type": "code",
   "execution_count": 101,
   "metadata": {},
   "outputs": [
    {
     "data": {
      "text/plain": [
       "(1499369, 2)"
      ]
     },
     "execution_count": 101,
     "metadata": {},
     "output_type": "execute_result"
    }
   ],
   "source": [
    "xg_prediction"
   ]
  },
  {
   "cell_type": "code",
   "execution_count": 90,
   "metadata": {},
   "outputs": [],
   "source": [
    "final_pred = xg_prediction[:, 1]"
   ]
  },
  {
   "cell_type": "code",
   "execution_count": 85,
   "metadata": {},
   "outputs": [
    {
     "data": {
      "text/plain": [
       "0.9497782066989514"
      ]
     },
     "execution_count": 85,
     "metadata": {},
     "output_type": "execute_result"
    }
   ],
   "source": [
    "accuracy_score(xg_prediction, y_test)"
   ]
  },
  {
   "cell_type": "code",
   "execution_count": 86,
   "metadata": {},
   "outputs": [],
   "source": [
    "subm_sample = pd.read_csv(\"new_res_sample.csv\")"
   ]
  },
  {
   "cell_type": "code",
   "execution_count": 100,
   "metadata": {},
   "outputs": [
    {
     "data": {
      "text/plain": [
       "1499369"
      ]
     },
     "execution_count": 100,
     "metadata": {},
     "output_type": "execute_result"
    }
   ],
   "source": [
    "len(final_pred)"
   ]
  },
  {
   "cell_type": "code",
   "execution_count": 107,
   "metadata": {},
   "outputs": [],
   "source": [
    "final_test = pd.read_csv(\"new_test.csv\")"
   ]
  },
  {
   "cell_type": "code",
   "execution_count": 108,
   "metadata": {},
   "outputs": [
    {
     "data": {
      "text/html": [
       "<div>\n",
       "<style scoped>\n",
       "    .dataframe tbody tr th:only-of-type {\n",
       "        vertical-align: middle;\n",
       "    }\n",
       "\n",
       "    .dataframe tbody tr th {\n",
       "        vertical-align: top;\n",
       "    }\n",
       "\n",
       "    .dataframe thead th {\n",
       "        text-align: right;\n",
       "    }\n",
       "</style>\n",
       "<table border=\"1\" class=\"dataframe\">\n",
       "  <thead>\n",
       "    <tr style=\"text-align: right;\">\n",
       "      <th></th>\n",
       "      <th>index</th>\n",
       "      <th>TX</th>\n",
       "      <th>TY</th>\n",
       "      <th>X</th>\n",
       "      <th>Y</th>\n",
       "      <th>Z</th>\n",
       "      <th>chi2</th>\n",
       "      <th>ele_P</th>\n",
       "      <th>data_ind</th>\n",
       "    </tr>\n",
       "  </thead>\n",
       "  <tbody>\n",
       "    <tr>\n",
       "      <th>0</th>\n",
       "      <td>0</td>\n",
       "      <td>-0.110714</td>\n",
       "      <td>-0.040569</td>\n",
       "      <td>59331.917969</td>\n",
       "      <td>49500.554688</td>\n",
       "      <td>6465.0</td>\n",
       "      <td>2.033096</td>\n",
       "      <td>NaN</td>\n",
       "      <td>221</td>\n",
       "    </tr>\n",
       "    <tr>\n",
       "      <th>1</th>\n",
       "      <td>1</td>\n",
       "      <td>-0.165904</td>\n",
       "      <td>0.159821</td>\n",
       "      <td>34738.796875</td>\n",
       "      <td>68337.164062</td>\n",
       "      <td>41376.0</td>\n",
       "      <td>0.369803</td>\n",
       "      <td>NaN</td>\n",
       "      <td>21</td>\n",
       "    </tr>\n",
       "    <tr>\n",
       "      <th>2</th>\n",
       "      <td>2</td>\n",
       "      <td>0.694244</td>\n",
       "      <td>-0.107642</td>\n",
       "      <td>68450.296875</td>\n",
       "      <td>45701.441406</td>\n",
       "      <td>59478.0</td>\n",
       "      <td>1.266626</td>\n",
       "      <td>NaN</td>\n",
       "      <td>347</td>\n",
       "    </tr>\n",
       "    <tr>\n",
       "      <th>3</th>\n",
       "      <td>3</td>\n",
       "      <td>0.370796</td>\n",
       "      <td>-0.016071</td>\n",
       "      <td>50257.199219</td>\n",
       "      <td>76170.953125</td>\n",
       "      <td>71115.0</td>\n",
       "      <td>2.767298</td>\n",
       "      <td>NaN</td>\n",
       "      <td>133</td>\n",
       "    </tr>\n",
       "    <tr>\n",
       "      <th>4</th>\n",
       "      <td>4</td>\n",
       "      <td>0.278292</td>\n",
       "      <td>0.332729</td>\n",
       "      <td>59803.960938</td>\n",
       "      <td>5938.398438</td>\n",
       "      <td>5172.0</td>\n",
       "      <td>2.794279</td>\n",
       "      <td>NaN</td>\n",
       "      <td>23</td>\n",
       "    </tr>\n",
       "  </tbody>\n",
       "</table>\n",
       "</div>"
      ],
      "text/plain": [
       "   index        TX        TY             X             Y        Z      chi2  \\\n",
       "0      0 -0.110714 -0.040569  59331.917969  49500.554688   6465.0  2.033096   \n",
       "1      1 -0.165904  0.159821  34738.796875  68337.164062  41376.0  0.369803   \n",
       "2      2  0.694244 -0.107642  68450.296875  45701.441406  59478.0  1.266626   \n",
       "3      3  0.370796 -0.016071  50257.199219  76170.953125  71115.0  2.767298   \n",
       "4      4  0.278292  0.332729  59803.960938   5938.398438   5172.0  2.794279   \n",
       "\n",
       "   ele_P  data_ind  \n",
       "0    NaN       221  \n",
       "1    NaN        21  \n",
       "2    NaN       347  \n",
       "3    NaN       133  \n",
       "4    NaN        23  "
      ]
     },
     "execution_count": 108,
     "metadata": {},
     "output_type": "execute_result"
    }
   ],
   "source": [
    "final_test.head()"
   ]
  },
  {
   "cell_type": "code",
   "execution_count": 109,
   "metadata": {},
   "outputs": [],
   "source": [
    "relev_final_test = final_test.drop(columns=['index', 'ele_P', 'data_ind'])"
   ]
  },
  {
   "cell_type": "code",
   "execution_count": 111,
   "metadata": {},
   "outputs": [
    {
     "data": {
      "text/html": [
       "<div>\n",
       "<style scoped>\n",
       "    .dataframe tbody tr th:only-of-type {\n",
       "        vertical-align: middle;\n",
       "    }\n",
       "\n",
       "    .dataframe tbody tr th {\n",
       "        vertical-align: top;\n",
       "    }\n",
       "\n",
       "    .dataframe thead th {\n",
       "        text-align: right;\n",
       "    }\n",
       "</style>\n",
       "<table border=\"1\" class=\"dataframe\">\n",
       "  <thead>\n",
       "    <tr style=\"text-align: right;\">\n",
       "      <th></th>\n",
       "      <th>TX</th>\n",
       "      <th>TY</th>\n",
       "      <th>X</th>\n",
       "      <th>Y</th>\n",
       "      <th>Z</th>\n",
       "      <th>chi2</th>\n",
       "    </tr>\n",
       "  </thead>\n",
       "  <tbody>\n",
       "    <tr>\n",
       "      <th>0</th>\n",
       "      <td>-0.110714</td>\n",
       "      <td>-0.040569</td>\n",
       "      <td>59331.917969</td>\n",
       "      <td>49500.554688</td>\n",
       "      <td>6465.0</td>\n",
       "      <td>2.033096</td>\n",
       "    </tr>\n",
       "    <tr>\n",
       "      <th>1</th>\n",
       "      <td>-0.165904</td>\n",
       "      <td>0.159821</td>\n",
       "      <td>34738.796875</td>\n",
       "      <td>68337.164062</td>\n",
       "      <td>41376.0</td>\n",
       "      <td>0.369803</td>\n",
       "    </tr>\n",
       "    <tr>\n",
       "      <th>2</th>\n",
       "      <td>0.694244</td>\n",
       "      <td>-0.107642</td>\n",
       "      <td>68450.296875</td>\n",
       "      <td>45701.441406</td>\n",
       "      <td>59478.0</td>\n",
       "      <td>1.266626</td>\n",
       "    </tr>\n",
       "    <tr>\n",
       "      <th>3</th>\n",
       "      <td>0.370796</td>\n",
       "      <td>-0.016071</td>\n",
       "      <td>50257.199219</td>\n",
       "      <td>76170.953125</td>\n",
       "      <td>71115.0</td>\n",
       "      <td>2.767298</td>\n",
       "    </tr>\n",
       "    <tr>\n",
       "      <th>4</th>\n",
       "      <td>0.278292</td>\n",
       "      <td>0.332729</td>\n",
       "      <td>59803.960938</td>\n",
       "      <td>5938.398438</td>\n",
       "      <td>5172.0</td>\n",
       "      <td>2.794279</td>\n",
       "    </tr>\n",
       "  </tbody>\n",
       "</table>\n",
       "</div>"
      ],
      "text/plain": [
       "         TX        TY             X             Y        Z      chi2\n",
       "0 -0.110714 -0.040569  59331.917969  49500.554688   6465.0  2.033096\n",
       "1 -0.165904  0.159821  34738.796875  68337.164062  41376.0  0.369803\n",
       "2  0.694244 -0.107642  68450.296875  45701.441406  59478.0  1.266626\n",
       "3  0.370796 -0.016071  50257.199219  76170.953125  71115.0  2.767298\n",
       "4  0.278292  0.332729  59803.960938   5938.398438   5172.0  2.794279"
      ]
     },
     "execution_count": 111,
     "metadata": {},
     "output_type": "execute_result"
    }
   ],
   "source": [
    "relev_final_test.head()"
   ]
  },
  {
   "cell_type": "code",
   "execution_count": 123,
   "metadata": {},
   "outputs": [],
   "source": [
    "relev_final_test = relev_final_test.fillna(relev_final_test.mean())"
   ]
  },
  {
   "cell_type": "code",
   "execution_count": 124,
   "metadata": {},
   "outputs": [],
   "source": [
    "ss = StandardScaler()\n",
    "relev_final_test_scaled = ss.fit_transform(relev_final_test)"
   ]
  },
  {
   "cell_type": "code",
   "execution_count": 126,
   "metadata": {},
   "outputs": [
    {
     "data": {
      "text/plain": [
       "array([[-0.42919805, -0.23893266,  0.79578217,  0.22851287, -1.47608791,\n",
       "        -0.12682986],\n",
       "       [-0.65177894,  0.56035862, -1.23364674,  1.17937315,  0.1446842 ,\n",
       "        -2.52751005],\n",
       "       [ 2.8172099 , -0.50646176,  1.54823248,  0.036736  ,  0.98508455,\n",
       "        -1.23309881],\n",
       "       ...,\n",
       "       [ 0.07177776,  0.76405802,  1.52758052, -1.26688027,  1.04511315,\n",
       "        -1.28337838],\n",
       "       [ 1.45820098,  1.42204693, -0.0173308 ,  0.40025534, -0.57565896,\n",
       "         0.54968936],\n",
       "       [ 1.91581584, -1.71906449,  0.80565783, -1.3804845 , -1.71620229,\n",
       "        -1.07273822]])"
      ]
     },
     "execution_count": 126,
     "metadata": {},
     "output_type": "execute_result"
    }
   ],
   "source": [
    "relev_final_test_scaled"
   ]
  },
  {
   "cell_type": "code",
   "execution_count": 128,
   "metadata": {},
   "outputs": [],
   "source": [
    "final_pred = xgb_model.predict_proba(relev_final_test_scaled)"
   ]
  },
  {
   "cell_type": "code",
   "execution_count": 130,
   "metadata": {},
   "outputs": [
    {
     "data": {
      "text/plain": [
       "array([0.00283148, 0.7123721 , 0.23782459, ..., 0.15556279, 0.00358905,\n",
       "       0.00950094], dtype=float32)"
      ]
     },
     "execution_count": 130,
     "metadata": {},
     "output_type": "execute_result"
    }
   ],
   "source": [
    "final_pred[:, 1]"
   ]
  },
  {
   "cell_type": "code",
   "execution_count": 136,
   "metadata": {},
   "outputs": [],
   "source": [
    "subm_sample.values[:, 1] = final_pred[:, 1]"
   ]
  },
  {
   "cell_type": "code",
   "execution_count": 140,
   "metadata": {},
   "outputs": [],
   "source": [
    "subm_sample[\"signal\"] = final_pred[:, 1]"
   ]
  },
  {
   "cell_type": "code",
   "execution_count": 141,
   "metadata": {},
   "outputs": [
    {
     "data": {
      "text/html": [
       "<div>\n",
       "<style scoped>\n",
       "    .dataframe tbody tr th:only-of-type {\n",
       "        vertical-align: middle;\n",
       "    }\n",
       "\n",
       "    .dataframe tbody tr th {\n",
       "        vertical-align: top;\n",
       "    }\n",
       "\n",
       "    .dataframe thead th {\n",
       "        text-align: right;\n",
       "    }\n",
       "</style>\n",
       "<table border=\"1\" class=\"dataframe\">\n",
       "  <thead>\n",
       "    <tr style=\"text-align: right;\">\n",
       "      <th></th>\n",
       "      <th>index</th>\n",
       "      <th>signal</th>\n",
       "    </tr>\n",
       "  </thead>\n",
       "  <tbody>\n",
       "    <tr>\n",
       "      <th>0</th>\n",
       "      <td>0</td>\n",
       "      <td>0.002831</td>\n",
       "    </tr>\n",
       "    <tr>\n",
       "      <th>1</th>\n",
       "      <td>1</td>\n",
       "      <td>0.712372</td>\n",
       "    </tr>\n",
       "    <tr>\n",
       "      <th>2</th>\n",
       "      <td>2</td>\n",
       "      <td>0.237825</td>\n",
       "    </tr>\n",
       "    <tr>\n",
       "      <th>3</th>\n",
       "      <td>3</td>\n",
       "      <td>0.004335</td>\n",
       "    </tr>\n",
       "    <tr>\n",
       "      <th>4</th>\n",
       "      <td>4</td>\n",
       "      <td>0.000584</td>\n",
       "    </tr>\n",
       "    <tr>\n",
       "      <th>5</th>\n",
       "      <td>5</td>\n",
       "      <td>0.003994</td>\n",
       "    </tr>\n",
       "    <tr>\n",
       "      <th>6</th>\n",
       "      <td>6</td>\n",
       "      <td>0.001692</td>\n",
       "    </tr>\n",
       "    <tr>\n",
       "      <th>7</th>\n",
       "      <td>7</td>\n",
       "      <td>0.007371</td>\n",
       "    </tr>\n",
       "    <tr>\n",
       "      <th>8</th>\n",
       "      <td>8</td>\n",
       "      <td>0.006725</td>\n",
       "    </tr>\n",
       "    <tr>\n",
       "      <th>9</th>\n",
       "      <td>9</td>\n",
       "      <td>0.024241</td>\n",
       "    </tr>\n",
       "    <tr>\n",
       "      <th>10</th>\n",
       "      <td>10</td>\n",
       "      <td>0.022565</td>\n",
       "    </tr>\n",
       "    <tr>\n",
       "      <th>11</th>\n",
       "      <td>11</td>\n",
       "      <td>0.011992</td>\n",
       "    </tr>\n",
       "    <tr>\n",
       "      <th>12</th>\n",
       "      <td>12</td>\n",
       "      <td>0.008828</td>\n",
       "    </tr>\n",
       "    <tr>\n",
       "      <th>13</th>\n",
       "      <td>13</td>\n",
       "      <td>0.144675</td>\n",
       "    </tr>\n",
       "    <tr>\n",
       "      <th>14</th>\n",
       "      <td>14</td>\n",
       "      <td>0.002496</td>\n",
       "    </tr>\n",
       "    <tr>\n",
       "      <th>15</th>\n",
       "      <td>15</td>\n",
       "      <td>0.006387</td>\n",
       "    </tr>\n",
       "    <tr>\n",
       "      <th>16</th>\n",
       "      <td>16</td>\n",
       "      <td>0.811489</td>\n",
       "    </tr>\n",
       "    <tr>\n",
       "      <th>17</th>\n",
       "      <td>17</td>\n",
       "      <td>0.111705</td>\n",
       "    </tr>\n",
       "    <tr>\n",
       "      <th>18</th>\n",
       "      <td>18</td>\n",
       "      <td>0.003749</td>\n",
       "    </tr>\n",
       "    <tr>\n",
       "      <th>19</th>\n",
       "      <td>19</td>\n",
       "      <td>0.012940</td>\n",
       "    </tr>\n",
       "    <tr>\n",
       "      <th>20</th>\n",
       "      <td>20</td>\n",
       "      <td>0.545235</td>\n",
       "    </tr>\n",
       "    <tr>\n",
       "      <th>21</th>\n",
       "      <td>21</td>\n",
       "      <td>0.001147</td>\n",
       "    </tr>\n",
       "    <tr>\n",
       "      <th>22</th>\n",
       "      <td>22</td>\n",
       "      <td>0.015829</td>\n",
       "    </tr>\n",
       "    <tr>\n",
       "      <th>23</th>\n",
       "      <td>23</td>\n",
       "      <td>0.266230</td>\n",
       "    </tr>\n",
       "    <tr>\n",
       "      <th>24</th>\n",
       "      <td>24</td>\n",
       "      <td>0.010245</td>\n",
       "    </tr>\n",
       "    <tr>\n",
       "      <th>25</th>\n",
       "      <td>25</td>\n",
       "      <td>0.005351</td>\n",
       "    </tr>\n",
       "    <tr>\n",
       "      <th>26</th>\n",
       "      <td>26</td>\n",
       "      <td>0.002656</td>\n",
       "    </tr>\n",
       "    <tr>\n",
       "      <th>27</th>\n",
       "      <td>27</td>\n",
       "      <td>0.002225</td>\n",
       "    </tr>\n",
       "    <tr>\n",
       "      <th>28</th>\n",
       "      <td>28</td>\n",
       "      <td>0.012657</td>\n",
       "    </tr>\n",
       "    <tr>\n",
       "      <th>29</th>\n",
       "      <td>29</td>\n",
       "      <td>0.541692</td>\n",
       "    </tr>\n",
       "    <tr>\n",
       "      <th>...</th>\n",
       "      <td>...</td>\n",
       "      <td>...</td>\n",
       "    </tr>\n",
       "    <tr>\n",
       "      <th>7496766</th>\n",
       "      <td>7496766</td>\n",
       "      <td>0.015831</td>\n",
       "    </tr>\n",
       "    <tr>\n",
       "      <th>7496767</th>\n",
       "      <td>7496767</td>\n",
       "      <td>0.002249</td>\n",
       "    </tr>\n",
       "    <tr>\n",
       "      <th>7496768</th>\n",
       "      <td>7496768</td>\n",
       "      <td>0.002114</td>\n",
       "    </tr>\n",
       "    <tr>\n",
       "      <th>7496769</th>\n",
       "      <td>7496769</td>\n",
       "      <td>0.443949</td>\n",
       "    </tr>\n",
       "    <tr>\n",
       "      <th>7496770</th>\n",
       "      <td>7496770</td>\n",
       "      <td>0.002023</td>\n",
       "    </tr>\n",
       "    <tr>\n",
       "      <th>7496771</th>\n",
       "      <td>7496771</td>\n",
       "      <td>0.010304</td>\n",
       "    </tr>\n",
       "    <tr>\n",
       "      <th>7496772</th>\n",
       "      <td>7496772</td>\n",
       "      <td>0.000945</td>\n",
       "    </tr>\n",
       "    <tr>\n",
       "      <th>7496773</th>\n",
       "      <td>7496773</td>\n",
       "      <td>0.013415</td>\n",
       "    </tr>\n",
       "    <tr>\n",
       "      <th>7496774</th>\n",
       "      <td>7496774</td>\n",
       "      <td>0.011298</td>\n",
       "    </tr>\n",
       "    <tr>\n",
       "      <th>7496775</th>\n",
       "      <td>7496775</td>\n",
       "      <td>0.003369</td>\n",
       "    </tr>\n",
       "    <tr>\n",
       "      <th>7496776</th>\n",
       "      <td>7496776</td>\n",
       "      <td>0.001600</td>\n",
       "    </tr>\n",
       "    <tr>\n",
       "      <th>7496777</th>\n",
       "      <td>7496777</td>\n",
       "      <td>0.004743</td>\n",
       "    </tr>\n",
       "    <tr>\n",
       "      <th>7496778</th>\n",
       "      <td>7496778</td>\n",
       "      <td>0.010545</td>\n",
       "    </tr>\n",
       "    <tr>\n",
       "      <th>7496779</th>\n",
       "      <td>7496779</td>\n",
       "      <td>0.001314</td>\n",
       "    </tr>\n",
       "    <tr>\n",
       "      <th>7496780</th>\n",
       "      <td>7496780</td>\n",
       "      <td>0.010365</td>\n",
       "    </tr>\n",
       "    <tr>\n",
       "      <th>7496781</th>\n",
       "      <td>7496781</td>\n",
       "      <td>0.033310</td>\n",
       "    </tr>\n",
       "    <tr>\n",
       "      <th>7496782</th>\n",
       "      <td>7496782</td>\n",
       "      <td>0.009323</td>\n",
       "    </tr>\n",
       "    <tr>\n",
       "      <th>7496783</th>\n",
       "      <td>7496783</td>\n",
       "      <td>0.006575</td>\n",
       "    </tr>\n",
       "    <tr>\n",
       "      <th>7496784</th>\n",
       "      <td>7496784</td>\n",
       "      <td>0.001250</td>\n",
       "    </tr>\n",
       "    <tr>\n",
       "      <th>7496785</th>\n",
       "      <td>7496785</td>\n",
       "      <td>0.006753</td>\n",
       "    </tr>\n",
       "    <tr>\n",
       "      <th>7496786</th>\n",
       "      <td>7496786</td>\n",
       "      <td>0.064917</td>\n",
       "    </tr>\n",
       "    <tr>\n",
       "      <th>7496787</th>\n",
       "      <td>7496787</td>\n",
       "      <td>0.048245</td>\n",
       "    </tr>\n",
       "    <tr>\n",
       "      <th>7496788</th>\n",
       "      <td>7496788</td>\n",
       "      <td>0.092795</td>\n",
       "    </tr>\n",
       "    <tr>\n",
       "      <th>7496789</th>\n",
       "      <td>7496789</td>\n",
       "      <td>0.004992</td>\n",
       "    </tr>\n",
       "    <tr>\n",
       "      <th>7496790</th>\n",
       "      <td>7496790</td>\n",
       "      <td>0.508413</td>\n",
       "    </tr>\n",
       "    <tr>\n",
       "      <th>7496791</th>\n",
       "      <td>7496791</td>\n",
       "      <td>0.006299</td>\n",
       "    </tr>\n",
       "    <tr>\n",
       "      <th>7496792</th>\n",
       "      <td>7496792</td>\n",
       "      <td>0.034068</td>\n",
       "    </tr>\n",
       "    <tr>\n",
       "      <th>7496793</th>\n",
       "      <td>7496793</td>\n",
       "      <td>0.155563</td>\n",
       "    </tr>\n",
       "    <tr>\n",
       "      <th>7496794</th>\n",
       "      <td>7496794</td>\n",
       "      <td>0.003589</td>\n",
       "    </tr>\n",
       "    <tr>\n",
       "      <th>7496795</th>\n",
       "      <td>7496795</td>\n",
       "      <td>0.009501</td>\n",
       "    </tr>\n",
       "  </tbody>\n",
       "</table>\n",
       "<p>7496796 rows × 2 columns</p>\n",
       "</div>"
      ],
      "text/plain": [
       "           index    signal\n",
       "0              0  0.002831\n",
       "1              1  0.712372\n",
       "2              2  0.237825\n",
       "3              3  0.004335\n",
       "4              4  0.000584\n",
       "5              5  0.003994\n",
       "6              6  0.001692\n",
       "7              7  0.007371\n",
       "8              8  0.006725\n",
       "9              9  0.024241\n",
       "10            10  0.022565\n",
       "11            11  0.011992\n",
       "12            12  0.008828\n",
       "13            13  0.144675\n",
       "14            14  0.002496\n",
       "15            15  0.006387\n",
       "16            16  0.811489\n",
       "17            17  0.111705\n",
       "18            18  0.003749\n",
       "19            19  0.012940\n",
       "20            20  0.545235\n",
       "21            21  0.001147\n",
       "22            22  0.015829\n",
       "23            23  0.266230\n",
       "24            24  0.010245\n",
       "25            25  0.005351\n",
       "26            26  0.002656\n",
       "27            27  0.002225\n",
       "28            28  0.012657\n",
       "29            29  0.541692\n",
       "...          ...       ...\n",
       "7496766  7496766  0.015831\n",
       "7496767  7496767  0.002249\n",
       "7496768  7496768  0.002114\n",
       "7496769  7496769  0.443949\n",
       "7496770  7496770  0.002023\n",
       "7496771  7496771  0.010304\n",
       "7496772  7496772  0.000945\n",
       "7496773  7496773  0.013415\n",
       "7496774  7496774  0.011298\n",
       "7496775  7496775  0.003369\n",
       "7496776  7496776  0.001600\n",
       "7496777  7496777  0.004743\n",
       "7496778  7496778  0.010545\n",
       "7496779  7496779  0.001314\n",
       "7496780  7496780  0.010365\n",
       "7496781  7496781  0.033310\n",
       "7496782  7496782  0.009323\n",
       "7496783  7496783  0.006575\n",
       "7496784  7496784  0.001250\n",
       "7496785  7496785  0.006753\n",
       "7496786  7496786  0.064917\n",
       "7496787  7496787  0.048245\n",
       "7496788  7496788  0.092795\n",
       "7496789  7496789  0.004992\n",
       "7496790  7496790  0.508413\n",
       "7496791  7496791  0.006299\n",
       "7496792  7496792  0.034068\n",
       "7496793  7496793  0.155563\n",
       "7496794  7496794  0.003589\n",
       "7496795  7496795  0.009501\n",
       "\n",
       "[7496796 rows x 2 columns]"
      ]
     },
     "execution_count": 141,
     "metadata": {},
     "output_type": "execute_result"
    }
   ],
   "source": [
    "subm_sample"
   ]
  },
  {
   "cell_type": "code",
   "execution_count": 142,
   "metadata": {},
   "outputs": [],
   "source": [
    "subm_sample.to_csv(\"final_sumb.csv\")"
   ]
  },
  {
   "cell_type": "code",
   "execution_count": 13,
   "metadata": {},
   "outputs": [],
   "source": [
    "svc = SVC(verbose=True, probability=True)"
   ]
  },
  {
   "cell_type": "code",
   "execution_count": 14,
   "metadata": {},
   "outputs": [
    {
     "data": {
      "text/plain": [
       "(5997472, 6)"
      ]
     },
     "execution_count": 14,
     "metadata": {},
     "output_type": "execute_result"
    }
   ],
   "source": [
    "X_train_scaled.shape"
   ]
  },
  {
   "cell_type": "code",
   "execution_count": null,
   "metadata": {},
   "outputs": [
    {
     "name": "stdout",
     "output_type": "stream",
     "text": [
      "[LibSVM]"
     ]
    }
   ],
   "source": [
    "start = time() #00:37\n",
    "svc.fit(X_train_scaled, np.array(y_train))\n",
    "end = time()\n",
    "print(end - start)"
   ]
  },
  {
   "cell_type": "code",
   "execution_count": null,
   "metadata": {},
   "outputs": [],
   "source": [
    "ss = StandardScaler()"
   ]
  },
  {
   "cell_type": "code",
   "execution_count": null,
   "metadata": {},
   "outputs": [],
   "source": [
    "X_test_scaled = ss.fit_transform(X_test)"
   ]
  },
  {
   "cell_type": "code",
   "execution_count": null,
   "metadata": {},
   "outputs": [],
   "source": [
    "y_pred = svc.predict_proba(X_test_scaled)"
   ]
  },
  {
   "cell_type": "code",
   "execution_count": null,
   "metadata": {},
   "outputs": [],
   "source": [
    "subm_sample = pd.read_csv('new_res_sample (1).csv')"
   ]
  },
  {
   "cell_type": "code",
   "execution_count": null,
   "metadata": {},
   "outputs": [],
   "source": []
  }
 ],
 "metadata": {
  "kernelspec": {
   "display_name": "Python 3",
   "language": "python",
   "name": "python3"
  },
  "language_info": {
   "codemirror_mode": {
    "name": "ipython",
    "version": 3
   },
   "file_extension": ".py",
   "mimetype": "text/x-python",
   "name": "python",
   "nbconvert_exporter": "python",
   "pygments_lexer": "ipython3",
   "version": "3.6.3"
  }
 },
 "nbformat": 4,
 "nbformat_minor": 2
}
