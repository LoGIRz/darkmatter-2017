{
 "cells": [
  {
   "cell_type": "code",
   "execution_count": null,
   "metadata": {},
   "outputs": [],
   "source": [
    "import pandas as pd\n",
    "import glob\n",
    "import numpy as np\n",
    "from sklearn.neighbors import BallTree, KDTree, DistanceMetric\n",
    "import lightgbm as lgb\n",
    "import matplotlib.pyplot as plt\n",
    "import matplotlib.lines as lines\n",
    "import matplotlib as mpl\n",
    "from mpl_toolkits.mplot3d import Axes3D\n",
    "import subprocess\n",
    "from tqdm import tqdm_notebook as tqdm\n",
    "from tqdm import tnrange as trange"
   ]
  },
  {
   "cell_type": "code",
   "execution_count": null,
   "metadata": {},
   "outputs": [],
   "source": [
    "pd.options.mode.chained_assignment = None  # default='warn'"
   ]
  },
  {
   "cell_type": "code",
   "execution_count": null,
   "metadata": {},
   "outputs": [],
   "source": [
    "MAGIC = 1293"
   ]
  },
  {
   "cell_type": "code",
   "execution_count": null,
   "metadata": {},
   "outputs": [],
   "source": [
    "train = pd.DataFrame()\n",
    "i = 0\n",
    "for f in tqdm(glob.glob('data/dm4/open*.h5')):\n",
    "    chunk = pd.read_hdf(f)\n",
    "    train = train.append(chunk, ignore_index=True)\n",
    "    i += 1\n",
    "    print(f)\n",
    "#    if i == 1:\n",
    "#        break\n",
    "train['ZZ'] = (train.Z.astype(int) // MAGIC * MAGIC).astype(int)\n",
    "print(train.shape)\n",
    "train.head()"
   ]
  },
  {
   "cell_type": "code",
   "execution_count": null,
   "metadata": {},
   "outputs": [],
   "source": [
    "test = pd.read_hdf('data/dm4/test_close0.h5').append(pd.read_hdf('data/dm4/test_close10.h5'), ignore_index=True)\n",
    "test['id'] = test.index\n",
    "test['ZZ'] = (test.Z.astype(int) // MAGIC * MAGIC).astype(int)\n",
    "print(test.shape)\n",
    "test.head()"
   ]
  },
  {
   "cell_type": "code",
   "execution_count": null,
   "metadata": {},
   "outputs": [],
   "source": [
    "example = pd.read_csv('data/dm4/example.csv')\n",
    "print(example.shape)\n",
    "example.head()"
   ]
  },
  {
   "cell_type": "markdown",
   "metadata": {},
   "source": [
    "We will multiply every TX, TY by 32000 to scale them to distances X, Y"
   ]
  },
  {
   "cell_type": "code",
   "execution_count": null,
   "metadata": {},
   "outputs": [],
   "source": [
    "points = 10\n",
    "\n",
    "all_check_pairs = pd.DataFrame()\n",
    "\n",
    "for data_ind in tqdm(train.data_ind.unique()):\n",
    "    brick = train.loc[train['data_ind'] == data_ind]\n",
    "    check_pairs = pd.DataFrame()\n",
    "    Zs = sorted(brick.ZZ.unique())\n",
    "    \n",
    "    # from previous find many next\n",
    "    for Zi in tqdm(range(1,len(Zs)),leave=False):\n",
    "        pl = brick.loc[(brick['signal'] == 1)].loc[(brick['ZZ'] == Zs[Zi-1])].reset_index(drop=True)\n",
    "        cl = brick.loc[brick['ZZ'] == Zs[Zi]]\n",
    "        if (pl.shape[0] == 0 or cl.shape[0] == 0):\n",
    "            continue\n",
    "        pl['predX'] = pl['X'] + pl['TX'] * (MAGIC - (pl['Z'] - pl['ZZ']))\n",
    "        pl['predY'] = pl['Y'] + pl['TY'] * (MAGIC - (pl['Z'] - pl['ZZ']))\n",
    "        pl[['TX3200','TY3200']] = pl[['TX','TY']] * 32000\n",
    "        cl['predX'] = cl['X'] - cl['TX'] * (cl['Z'] - cl['ZZ'])\n",
    "        cl['predY'] = cl['Y'] - cl['TY'] * (cl['Z'] - cl['ZZ'])\n",
    "        cl[['TX3200','TY3200']] = cl[['TX','TY']] * 32000\n",
    "        tree = BallTree(cl[['predX','predY','TX3200','TY3200']].values)\n",
    "        \n",
    "        indices = tree.query(pl[['predX','predY','TX3200','TY3200']].values, return_distance=False, k=points)\n",
    "        \n",
    "        for i in range(points):\n",
    "            ntmp = cl.iloc[indices[:,i]].reset_index(drop=True)\n",
    "            pairs = pd.DataFrame()\n",
    "            pairs[['DX','DY','DZ','DTX','DTY']] = ntmp[['X','Y','Z','TX','TY']] - pl[['X','Y','Z','TX','TY']]\n",
    "            pairs[['X1','Y1','Z1','TX1','TY1']] = pl[['X','Y','Z','TX','TY']]\n",
    "            pairs[['X2','Y2','Z2','TX2','TY2']] = ntmp[['X','Y','Z','TX','TY']]\n",
    "            pairs['signal'] = pl['signal'] * (pl['event_id'] == ntmp['event_id'])\n",
    "            check_pairs = check_pairs.append(pairs, ignore_index=True)\n",
    "    \n",
    "    # from next find many previous\n",
    "    \n",
    "    for Zi in tqdm(range(1,len(Zs)),leave=False):\n",
    "        cl = brick.loc[(brick['signal'] == 1)].loc[(brick['ZZ'] == Zs[Zi])].reset_index(drop=True)\n",
    "        pl = brick.loc[(brick['ZZ'] == Zs[Zi-1])]\n",
    "        if (pl.shape[0] == 0 or cl.shape[0] == 0):\n",
    "            continue\n",
    "        pl['predX'] = pl['X'] + pl['TX'] * (MAGIC - (pl['Z'] - pl['ZZ']))\n",
    "        pl['predY'] = pl['Y'] + pl['TY'] * (MAGIC - (pl['Z'] - pl['ZZ']))\n",
    "        pl[['TX3200','TY3200']] = pl[['TX','TY']] * 32000\n",
    "        cl['predX'] = cl['X'] - cl['TX'] * (cl['Z'] - cl['ZZ'])\n",
    "        cl['predY'] = cl['Y'] - cl['TY'] * (cl['Z'] - cl['ZZ'])\n",
    "        cl[['TX3200','TY3200']] = cl[['TX','TY']] * 32000\n",
    "        tree = BallTree(pl[['predX','predY','TX3200','TY3200']].values)\n",
    "        \n",
    "        indices = tree.query(cl[['predX','predY','TX3200','TY3200']].values, return_distance=False, k=points)\n",
    "        \n",
    "        for i in range(points):\n",
    "            ntmp = pl.iloc[indices[:,i]].reset_index(drop=True)\n",
    "            pairs = pd.DataFrame()\n",
    "            pairs[['DX','DY','DZ','DTX','DTY']] = cl[['X','Y','Z','TX','TY']] - ntmp[['X','Y','Z','TX','TY']]\n",
    "            pairs[['X1','Y1','Z1','TX1','TY1']] = ntmp[['X','Y','Z','TX','TY']]\n",
    "            pairs[['X2','Y2','Z2','TX2','TY2']] = cl[['X','Y','Z','TX','TY']]\n",
    "            pairs['signal'] = cl['signal'] * (cl['event_id'] == ntmp['event_id'])\n",
    "            check_pairs = check_pairs.append(pairs, ignore_index=True)\n",
    "    \n",
    "    all_check_pairs = all_check_pairs.append(check_pairs, ignore_index=True)"
   ]
  },
  {
   "cell_type": "code",
   "execution_count": null,
   "metadata": {},
   "outputs": [],
   "source": [
    "print(all_check_pairs.shape)\n",
    "all_check_pairs.head()"
   ]
  },
  {
   "cell_type": "code",
   "execution_count": null,
   "metadata": {},
   "outputs": [],
   "source": [
    "points = 10\n",
    "\n",
    "# Generating pairs for test\n",
    "\n",
    "all_test_pairs = pd.DataFrame()\n",
    "\n",
    "for data_ind in tqdm(test.data_ind.unique()):\n",
    "    brick = test.loc[test['data_ind'] == data_ind]\n",
    "    \n",
    "    Zs = sorted(brick.ZZ.unique())\n",
    "    \n",
    "    # from previous find many next\n",
    "    test_pairs = pd.DataFrame()\n",
    "    for Zi in tqdm(range(1,len(Zs)),leave=False):\n",
    "        pl = brick.loc[(brick['ZZ'] == Zs[Zi-1])].reset_index(drop=True)\n",
    "        if (pl.shape[0] == 0):\n",
    "            continue\n",
    "        cl = brick.loc[brick['ZZ'] == Zs[Zi]]\n",
    "        pl['predX'] = pl['X'] + pl['TX'] * (MAGIC - (pl['Z'] - pl['ZZ']))\n",
    "        pl['predY'] = pl['Y'] + pl['TY'] * (MAGIC - (pl['Z'] - pl['ZZ']))\n",
    "        pl[['TX3200','TY3200']] = pl[['TX','TY']] * 32000\n",
    "        cl['predX'] = cl['X'] - cl['TX'] * (cl['Z'] - cl['ZZ'])\n",
    "        cl['predY'] = cl['Y'] - cl['TY'] * (cl['Z'] - cl['ZZ'])\n",
    "        cl[['TX3200','TY3200']] = cl[['TX','TY']] * 32000\n",
    "        tree = BallTree(cl[['predX','predY','TX3200','TY3200']].values)\n",
    "        \n",
    "        indices = tree.query(pl[['predX','predY','TX3200','TY3200']].values, return_distance=False, k=points)\n",
    "        \n",
    "        for i in range(points):\n",
    "            ntmp = cl.iloc[indices[:,i]].reset_index(drop=True)\n",
    "            pairs = pd.DataFrame()\n",
    "            pairs[['DX','DY','DZ','DTX','DTY']] = ntmp[['X','Y','Z','TX','TY']] - pl[['X','Y','Z','TX','TY']]\n",
    "            pairs[['X1','Y1','Z1','TX1','TY1']] = pl[['X','Y','Z','TX','TY']]\n",
    "            pairs[['X2','Y2','Z2','TX2','TY2']] = ntmp[['X','Y','Z','TX','TY']]\n",
    "            pairs = pairs.assign(id1=pl['id'], id2=ntmp['id'])\n",
    "            test_pairs = test_pairs.append(pairs, ignore_index=True)\n",
    "    all_test_pairs = all_test_pairs.append(test_pairs, ignore_index=True)\n",
    "    # from next find many previous\n",
    "    test_pairs = pd.DataFrame()\n",
    "    for Zi in tqdm(range(1,len(Zs)),leave=False):\n",
    "        cl = brick.loc[(brick['ZZ'] == Zs[Zi])].reset_index(drop=True)\n",
    "        if (cl.shape[0] == 0):\n",
    "            continue\n",
    "        pl = brick.loc[(brick['ZZ'] == Zs[Zi-1])]\n",
    "        pl['predX'] = pl['X'] + pl['TX'] * (MAGIC - (pl['Z'] - pl['ZZ']))\n",
    "        pl['predY'] = pl['Y'] + pl['TY'] * (MAGIC - (pl['Z'] - pl['ZZ']))\n",
    "        pl[['TX3200','TY3200']] = pl[['TX','TY']] * 32000\n",
    "        cl['predX'] = cl['X'] - cl['TX'] * (cl['Z'] - cl['ZZ'])\n",
    "        cl['predY'] = cl['Y'] - cl['TY'] * (cl['Z'] - cl['ZZ'])\n",
    "        cl[['TX3200','TY3200']] = cl[['TX','TY']] * 32000\n",
    "        tree = BallTree(pl[['predX','predY','TX3200','TY3200']].values)\n",
    "        \n",
    "        indices = tree.query(cl[['predX','predY','TX3200','TY3200']].values, return_distance=False, k=points)\n",
    "        \n",
    "        for i in range(points):\n",
    "            ntmp = pl.iloc[indices[:,i]].reset_index(drop=True)\n",
    "            pairs = pd.DataFrame()\n",
    "            pairs[['DX','DY','DZ','DTX','DTY']] = cl[['X','Y','Z','TX','TY']] - ntmp[['X','Y','Z','TX','TY']]\n",
    "            pairs[['X1','Y1','Z1','TX1','TY1']] = ntmp[['X','Y','Z','TX','TY']]\n",
    "            pairs[['X2','Y2','Z2','TX2','TY2']] = cl[['X','Y','Z','TX','TY']]\n",
    "            pairs = pairs.assign(id1=ntmp['id'], id2=cl['id'])\n",
    "            test_pairs = test_pairs.append(pairs, ignore_index=True)\n",
    "    all_test_pairs = all_test_pairs.append(test_pairs, ignore_index=True)\n",
    "    "
   ]
  },
  {
   "cell_type": "code",
   "execution_count": null,
   "metadata": {
    "scrolled": true
   },
   "outputs": [],
   "source": [
    "print(all_test_pairs.shape)\n",
    "all_test_pairs.head()"
   ]
  },
  {
   "cell_type": "code",
   "execution_count": null,
   "metadata": {},
   "outputs": [],
   "source": [
    "X_train = all_check_pairs.drop(['signal'],axis=1)\n",
    "y_train = all_check_pairs['signal']\n",
    "X_test = all_test_pairs.drop(['id1','id2'],axis=1)"
   ]
  },
  {
   "cell_type": "code",
   "execution_count": null,
   "metadata": {},
   "outputs": [],
   "source": [
    "lgb_train = lgb.Dataset(X_train, y_train)\n",
    "params = {\n",
    "    'boosting_type': 'gbdt',\n",
    "    'objective': 'binary',\n",
    "    'metric': 'auc',\n",
    "    'num_leaves': 31,\n",
    "    'learning_rate': 0.05,\n",
    "    'max_depth': 15,\n",
    "    'feature_fraction': 0.7,\n",
    "    'bagging_fraction': 0.7,\n",
    "    'bagging_freq': 4\n",
    "}"
   ]
  },
  {
   "cell_type": "code",
   "execution_count": null,
   "metadata": {},
   "outputs": [],
   "source": [
    "num_round = 20\n",
    "lgb.cv(params, lgb_train, num_round, nfold=5)"
   ]
  },
  {
   "cell_type": "code",
   "execution_count": null,
   "metadata": {},
   "outputs": [],
   "source": [
    "num_round = 100\n",
    "bst = lgb.train(params, lgb_train, num_round)"
   ]
  },
  {
   "cell_type": "code",
   "execution_count": null,
   "metadata": {},
   "outputs": [],
   "source": [
    "ypred = bst.predict(X_test)"
   ]
  },
  {
   "cell_type": "code",
   "execution_count": null,
   "metadata": {},
   "outputs": [],
   "source": [
    "pairres = all_test_pairs\n",
    "pairres['res'] = ypred\n",
    "print(pairres.shape)\n",
    "pairres.head()"
   ]
  },
  {
   "cell_type": "code",
   "execution_count": null,
   "metadata": {},
   "outputs": [],
   "source": [
    "pairres1 = pd.DataFrame()\n",
    "pairres1[['id','signal']] = pairres[['id1','res']]\n",
    "pairres2 = pd.DataFrame()\n",
    "pairres2[['id','signal']] = pairres[['id2','res']]\n",
    "pairres1 = pairres1.append(pairres2, ignore_index=True)\n",
    "print(pairres1.shape)\n",
    "pairres1.head()"
   ]
  },
  {
   "cell_type": "code",
   "execution_count": null,
   "metadata": {
    "scrolled": true
   },
   "outputs": [],
   "source": [
    "result = pairres1.groupby(['id'])['signal'].mean().reset_index()\n",
    "print(result.shape)\n",
    "result.head()"
   ]
  },
  {
   "cell_type": "code",
   "execution_count": null,
   "metadata": {},
   "outputs": [],
   "source": [
    "result.to_csv('result.csv',index=False)"
   ]
  },
  {
   "cell_type": "code",
   "execution_count": null,
   "metadata": {},
   "outputs": [],
   "source": []
  }
 ],
 "metadata": {
  "kernelspec": {
   "display_name": "Python 3",
   "language": "python",
   "name": "python3"
  },
  "language_info": {
   "codemirror_mode": {
    "name": "ipython",
    "version": 3
   },
   "file_extension": ".py",
   "mimetype": "text/x-python",
   "name": "python",
   "nbconvert_exporter": "python",
   "pygments_lexer": "ipython3",
   "version": "3.6.4"
  }
 },
 "nbformat": 4,
 "nbformat_minor": 2
}
